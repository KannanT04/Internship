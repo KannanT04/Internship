{
 "cells": [
  {
   "cell_type": "code",
   "execution_count": 2,
   "id": "bbcc2c36",
   "metadata": {},
   "outputs": [],
   "source": [
    "from selenium import webdriver\n",
    "import time\n",
    "from selenium.common.exceptions import NoSuchElementException\n",
    "import warnings\n",
    "warnings.filterwarnings('ignore')\n",
    "from selenium.webdriver.common.by import By\n",
    "import pandas as pd\n",
    "import requests"
   ]
  },
  {
   "cell_type": "markdown",
   "id": "a4219f4c",
   "metadata": {},
   "source": [
    "# 1. Scrape the details of most viewed videos on YouTube from Wikipedia. Url = https://en.wikipedia.org/wiki/List_of_most-viewed_YouTube_videos You need to find following details: A) RankB) NameC) ArtistD) Upload dateE) Views"
   ]
  },
  {
   "cell_type": "code",
   "execution_count": 9,
   "id": "4c1ee61e",
   "metadata": {},
   "outputs": [],
   "source": [
    "driver=webdriver.Chrome()\n",
    "driver.get('https://en.wikipedia.org/wiki/List_of_most-viewed_YouTube_videos')"
   ]
  },
  {
   "cell_type": "code",
   "execution_count": 11,
   "id": "8989a158",
   "metadata": {},
   "outputs": [],
   "source": [
    "Rank=[]\n",
    "Name=[]\n",
    "Artist=[]\n",
    "Upload_Date=[]\n",
    "Views=[]"
   ]
  },
  {
   "cell_type": "code",
   "execution_count": 12,
   "id": "d33cf455",
   "metadata": {},
   "outputs": [],
   "source": [
    "name=driver.find_elements(By.XPATH,'//table[@class=\"sortable wikitable sticky-header static-row-numbers col3center col4right jquery-tablesorter\"]//tbody/tr/td[1]')\n",
    "for i in name:\n",
    "    Name.append(i.text)\n",
    "    \n",
    "artist=driver.find_elements(By.XPATH,'//table[@class=\"sortable wikitable sticky-header static-row-numbers col3center col4right jquery-tablesorter\"]//tbody/tr/td[2]')\n",
    "for i in artist:\n",
    "    Artist.append(i.text)\n",
    "    \n",
    "ud=driver.find_elements(By.XPATH,'//table[@class=\"sortable wikitable sticky-header static-row-numbers col3center col4right jquery-tablesorter\"]//tbody/tr/td[3]')\n",
    "for i in ud:\n",
    "    Upload_Date.append(i.text)\n",
    "    \n",
    "views=driver.find_elements(By.XPATH,'//table[@class=\"sortable wikitable sticky-header static-row-numbers col3center col4right jquery-tablesorter\"]//tbody/tr/td[4]')\n",
    "for i in views:\n",
    "    Views.append(i.text)"
   ]
  },
  {
   "cell_type": "code",
   "execution_count": 18,
   "id": "acbd6cc8",
   "metadata": {},
   "outputs": [
    {
     "data": {
      "text/plain": [
       "(30, 30, 30, 30)"
      ]
     },
     "execution_count": 18,
     "metadata": {},
     "output_type": "execute_result"
    }
   ],
   "source": [
    "len(Name),len(Artist),len(Upload_Date),len(Views)"
   ]
  },
  {
   "cell_type": "code",
   "execution_count": 15,
   "id": "e6846e80",
   "metadata": {},
   "outputs": [
    {
     "data": {
      "text/html": [
       "<div>\n",
       "<style scoped>\n",
       "    .dataframe tbody tr th:only-of-type {\n",
       "        vertical-align: middle;\n",
       "    }\n",
       "\n",
       "    .dataframe tbody tr th {\n",
       "        vertical-align: top;\n",
       "    }\n",
       "\n",
       "    .dataframe thead th {\n",
       "        text-align: right;\n",
       "    }\n",
       "</style>\n",
       "<table border=\"1\" class=\"dataframe\">\n",
       "  <thead>\n",
       "    <tr style=\"text-align: right;\">\n",
       "      <th></th>\n",
       "      <th>Name</th>\n",
       "      <th>Artist</th>\n",
       "      <th>Upload_Date</th>\n",
       "      <th>Views</th>\n",
       "    </tr>\n",
       "  </thead>\n",
       "  <tbody>\n",
       "    <tr>\n",
       "      <th>0</th>\n",
       "      <td>\"Baby Shark Dance\"[6]</td>\n",
       "      <td>Pinkfong Baby Shark - Kids' Songs &amp; Stories</td>\n",
       "      <td>14.09</td>\n",
       "      <td>June 17, 2016</td>\n",
       "    </tr>\n",
       "    <tr>\n",
       "      <th>1</th>\n",
       "      <td>\"Despacito\"[9]</td>\n",
       "      <td>Luis Fonsi</td>\n",
       "      <td>8.38</td>\n",
       "      <td>January 12, 2017</td>\n",
       "    </tr>\n",
       "    <tr>\n",
       "      <th>2</th>\n",
       "      <td>\"Johny Johny Yes Papa\"[17]</td>\n",
       "      <td>LooLoo Kids - Nursery Rhymes and Children's Songs</td>\n",
       "      <td>6.87</td>\n",
       "      <td>October 8, 2016</td>\n",
       "    </tr>\n",
       "    <tr>\n",
       "      <th>3</th>\n",
       "      <td>\"Bath Song\"[18]</td>\n",
       "      <td>Cocomelon - Nursery Rhymes</td>\n",
       "      <td>6.62</td>\n",
       "      <td>May 2, 2018</td>\n",
       "    </tr>\n",
       "    <tr>\n",
       "      <th>4</th>\n",
       "      <td>\"Shape of You\"[19]</td>\n",
       "      <td>Ed Sheeran</td>\n",
       "      <td>6.20</td>\n",
       "      <td>January 30, 2017</td>\n",
       "    </tr>\n",
       "    <tr>\n",
       "      <th>5</th>\n",
       "      <td>\"See You Again\"[22]</td>\n",
       "      <td>Wiz Khalifa</td>\n",
       "      <td>6.17</td>\n",
       "      <td>April 6, 2015</td>\n",
       "    </tr>\n",
       "    <tr>\n",
       "      <th>6</th>\n",
       "      <td>\"Wheels on the Bus\"[27]</td>\n",
       "      <td>Cocomelon - Nursery Rhymes</td>\n",
       "      <td>5.88</td>\n",
       "      <td>May 24, 2018</td>\n",
       "    </tr>\n",
       "    <tr>\n",
       "      <th>7</th>\n",
       "      <td>\"Phonics Song with Two Words\"[28]</td>\n",
       "      <td>ChuChu TV Nursery Rhymes &amp; Kids Songs</td>\n",
       "      <td>5.70</td>\n",
       "      <td>March 6, 2014</td>\n",
       "    </tr>\n",
       "    <tr>\n",
       "      <th>8</th>\n",
       "      <td>\"Uptown Funk\"[29]</td>\n",
       "      <td>Mark Ronson</td>\n",
       "      <td>5.15</td>\n",
       "      <td>November 19, 2014</td>\n",
       "    </tr>\n",
       "    <tr>\n",
       "      <th>9</th>\n",
       "      <td>\"Learning Colors – Colorful Eggs on a Farm\"[30]</td>\n",
       "      <td>Miroshka TV</td>\n",
       "      <td>5.07</td>\n",
       "      <td>February 27, 2018</td>\n",
       "    </tr>\n",
       "    <tr>\n",
       "      <th>10</th>\n",
       "      <td>\"Gangnam Style\"[31]</td>\n",
       "      <td>Psy</td>\n",
       "      <td>5.05</td>\n",
       "      <td>July 15, 2012</td>\n",
       "    </tr>\n",
       "    <tr>\n",
       "      <th>11</th>\n",
       "      <td>\"Masha and the Bear – Recipe for Disaster\"[36]</td>\n",
       "      <td>Get Movies</td>\n",
       "      <td>4.58</td>\n",
       "      <td>January 31, 2012</td>\n",
       "    </tr>\n",
       "    <tr>\n",
       "      <th>12</th>\n",
       "      <td>\"Dame Tu Cosita\"[37]</td>\n",
       "      <td>Ultra Records</td>\n",
       "      <td>4.55</td>\n",
       "      <td>April 5, 2018</td>\n",
       "    </tr>\n",
       "    <tr>\n",
       "      <th>13</th>\n",
       "      <td>\"Axel F\"[38]</td>\n",
       "      <td>Crazy Frog</td>\n",
       "      <td>4.34</td>\n",
       "      <td>June 16, 2009</td>\n",
       "    </tr>\n",
       "    <tr>\n",
       "      <th>14</th>\n",
       "      <td>\"Sugar\"[39]</td>\n",
       "      <td>Maroon 5</td>\n",
       "      <td>4.00</td>\n",
       "      <td>January 14, 2015</td>\n",
       "    </tr>\n",
       "    <tr>\n",
       "      <th>15</th>\n",
       "      <td>\"Counting Stars\"[40]</td>\n",
       "      <td>OneRepublic</td>\n",
       "      <td>3.97</td>\n",
       "      <td>May 31, 2013</td>\n",
       "    </tr>\n",
       "    <tr>\n",
       "      <th>16</th>\n",
       "      <td>\"Baa Baa Black Sheep\"[41]</td>\n",
       "      <td>Cocomelon - Nursery Rhymes</td>\n",
       "      <td>3.96</td>\n",
       "      <td>June 25, 2018</td>\n",
       "    </tr>\n",
       "    <tr>\n",
       "      <th>17</th>\n",
       "      <td>\"Roar\"[42]</td>\n",
       "      <td>Katy Perry</td>\n",
       "      <td>3.96</td>\n",
       "      <td>September 5, 2013</td>\n",
       "    </tr>\n",
       "    <tr>\n",
       "      <th>18</th>\n",
       "      <td>\"Lakdi Ki Kathi\"[43]</td>\n",
       "      <td>Jingle Toons</td>\n",
       "      <td>3.91</td>\n",
       "      <td>June 14, 2018</td>\n",
       "    </tr>\n",
       "    <tr>\n",
       "      <th>19</th>\n",
       "      <td>\"Waka Waka (This Time for Africa)\"[44]</td>\n",
       "      <td>Shakira</td>\n",
       "      <td>3.85</td>\n",
       "      <td>June 4, 2010</td>\n",
       "    </tr>\n",
       "    <tr>\n",
       "      <th>20</th>\n",
       "      <td>\"Sorry\"[45]</td>\n",
       "      <td>Justin Bieber</td>\n",
       "      <td>3.77</td>\n",
       "      <td>October 22, 2015</td>\n",
       "    </tr>\n",
       "    <tr>\n",
       "      <th>21</th>\n",
       "      <td>\"Thinking Out Loud\"[46]</td>\n",
       "      <td>Ed Sheeran</td>\n",
       "      <td>3.73</td>\n",
       "      <td>October 7, 2014</td>\n",
       "    </tr>\n",
       "    <tr>\n",
       "      <th>22</th>\n",
       "      <td>\"Humpty the train on a fruits ride\"[47]</td>\n",
       "      <td>Kiddiestv Hindi - Nursery Rhymes &amp; Kids Songs</td>\n",
       "      <td>3.73</td>\n",
       "      <td>January 26, 2018</td>\n",
       "    </tr>\n",
       "    <tr>\n",
       "      <th>23</th>\n",
       "      <td>\"Shree Hanuman Chalisa\"[48]</td>\n",
       "      <td>T-Series Bhakti Sagar</td>\n",
       "      <td>3.69</td>\n",
       "      <td>May 10, 2011</td>\n",
       "    </tr>\n",
       "    <tr>\n",
       "      <th>24</th>\n",
       "      <td>\"Dark Horse\"[49]</td>\n",
       "      <td>Katy Perry</td>\n",
       "      <td>3.67</td>\n",
       "      <td>February 20, 2014</td>\n",
       "    </tr>\n",
       "    <tr>\n",
       "      <th>25</th>\n",
       "      <td>\"Perfect\"[50]</td>\n",
       "      <td>Ed Sheeran</td>\n",
       "      <td>3.67</td>\n",
       "      <td>November 9, 2017</td>\n",
       "    </tr>\n",
       "    <tr>\n",
       "      <th>26</th>\n",
       "      <td>\"Let Her Go\"[51]</td>\n",
       "      <td>Passenger</td>\n",
       "      <td>3.61</td>\n",
       "      <td>July 25, 2012</td>\n",
       "    </tr>\n",
       "    <tr>\n",
       "      <th>27</th>\n",
       "      <td>\"Faded\"[52]</td>\n",
       "      <td>Alan Walker</td>\n",
       "      <td>3.59</td>\n",
       "      <td>December 3, 2015</td>\n",
       "    </tr>\n",
       "    <tr>\n",
       "      <th>28</th>\n",
       "      <td>\"Girls Like You\"[53]</td>\n",
       "      <td>Maroon 5</td>\n",
       "      <td>3.56</td>\n",
       "      <td>May 31, 2018</td>\n",
       "    </tr>\n",
       "    <tr>\n",
       "      <th>29</th>\n",
       "      <td>\"Lean On\"[54]</td>\n",
       "      <td>Major Lazer Official</td>\n",
       "      <td>3.55</td>\n",
       "      <td>March 22, 2015</td>\n",
       "    </tr>\n",
       "  </tbody>\n",
       "</table>\n",
       "</div>"
      ],
      "text/plain": [
       "                                               Name  \\\n",
       "0                             \"Baby Shark Dance\"[6]   \n",
       "1                                    \"Despacito\"[9]   \n",
       "2                        \"Johny Johny Yes Papa\"[17]   \n",
       "3                                   \"Bath Song\"[18]   \n",
       "4                                \"Shape of You\"[19]   \n",
       "5                               \"See You Again\"[22]   \n",
       "6                           \"Wheels on the Bus\"[27]   \n",
       "7                 \"Phonics Song with Two Words\"[28]   \n",
       "8                                 \"Uptown Funk\"[29]   \n",
       "9   \"Learning Colors – Colorful Eggs on a Farm\"[30]   \n",
       "10                              \"Gangnam Style\"[31]   \n",
       "11   \"Masha and the Bear – Recipe for Disaster\"[36]   \n",
       "12                             \"Dame Tu Cosita\"[37]   \n",
       "13                                     \"Axel F\"[38]   \n",
       "14                                      \"Sugar\"[39]   \n",
       "15                             \"Counting Stars\"[40]   \n",
       "16                        \"Baa Baa Black Sheep\"[41]   \n",
       "17                                       \"Roar\"[42]   \n",
       "18                             \"Lakdi Ki Kathi\"[43]   \n",
       "19           \"Waka Waka (This Time for Africa)\"[44]   \n",
       "20                                      \"Sorry\"[45]   \n",
       "21                          \"Thinking Out Loud\"[46]   \n",
       "22          \"Humpty the train on a fruits ride\"[47]   \n",
       "23                      \"Shree Hanuman Chalisa\"[48]   \n",
       "24                                 \"Dark Horse\"[49]   \n",
       "25                                    \"Perfect\"[50]   \n",
       "26                                 \"Let Her Go\"[51]   \n",
       "27                                      \"Faded\"[52]   \n",
       "28                             \"Girls Like You\"[53]   \n",
       "29                                    \"Lean On\"[54]   \n",
       "\n",
       "                                               Artist Upload_Date  \\\n",
       "0         Pinkfong Baby Shark - Kids' Songs & Stories       14.09   \n",
       "1                                          Luis Fonsi        8.38   \n",
       "2   LooLoo Kids - Nursery Rhymes and Children's Songs        6.87   \n",
       "3                          Cocomelon - Nursery Rhymes        6.62   \n",
       "4                                          Ed Sheeran        6.20   \n",
       "5                                         Wiz Khalifa        6.17   \n",
       "6                          Cocomelon - Nursery Rhymes        5.88   \n",
       "7               ChuChu TV Nursery Rhymes & Kids Songs        5.70   \n",
       "8                                         Mark Ronson        5.15   \n",
       "9                                         Miroshka TV        5.07   \n",
       "10                                                Psy        5.05   \n",
       "11                                         Get Movies        4.58   \n",
       "12                                      Ultra Records        4.55   \n",
       "13                                         Crazy Frog        4.34   \n",
       "14                                           Maroon 5        4.00   \n",
       "15                                        OneRepublic        3.97   \n",
       "16                         Cocomelon - Nursery Rhymes        3.96   \n",
       "17                                         Katy Perry        3.96   \n",
       "18                                       Jingle Toons        3.91   \n",
       "19                                            Shakira        3.85   \n",
       "20                                      Justin Bieber        3.77   \n",
       "21                                         Ed Sheeran        3.73   \n",
       "22      Kiddiestv Hindi - Nursery Rhymes & Kids Songs        3.73   \n",
       "23                              T-Series Bhakti Sagar        3.69   \n",
       "24                                         Katy Perry        3.67   \n",
       "25                                         Ed Sheeran        3.67   \n",
       "26                                          Passenger        3.61   \n",
       "27                                        Alan Walker        3.59   \n",
       "28                                           Maroon 5        3.56   \n",
       "29                               Major Lazer Official        3.55   \n",
       "\n",
       "                Views  \n",
       "0       June 17, 2016  \n",
       "1    January 12, 2017  \n",
       "2     October 8, 2016  \n",
       "3         May 2, 2018  \n",
       "4    January 30, 2017  \n",
       "5       April 6, 2015  \n",
       "6        May 24, 2018  \n",
       "7       March 6, 2014  \n",
       "8   November 19, 2014  \n",
       "9   February 27, 2018  \n",
       "10      July 15, 2012  \n",
       "11   January 31, 2012  \n",
       "12      April 5, 2018  \n",
       "13      June 16, 2009  \n",
       "14   January 14, 2015  \n",
       "15       May 31, 2013  \n",
       "16      June 25, 2018  \n",
       "17  September 5, 2013  \n",
       "18      June 14, 2018  \n",
       "19       June 4, 2010  \n",
       "20   October 22, 2015  \n",
       "21    October 7, 2014  \n",
       "22   January 26, 2018  \n",
       "23       May 10, 2011  \n",
       "24  February 20, 2014  \n",
       "25   November 9, 2017  \n",
       "26      July 25, 2012  \n",
       "27   December 3, 2015  \n",
       "28       May 31, 2018  \n",
       "29     March 22, 2015  "
      ]
     },
     "execution_count": 15,
     "metadata": {},
     "output_type": "execute_result"
    }
   ],
   "source": [
    "Videos=pd.DataFrame({'Name':Name,'Artist':Artist,'Upload_Date':Upload_Date,'Views':Views})\n",
    "Videos"
   ]
  },
  {
   "cell_type": "markdown",
   "id": "75b19e7c",
   "metadata": {},
   "source": [
    "# 2. Scrape the details team India’s international fixtures from bcci.tv.Url = https://www.bcci.tv/.You need to find following details:A) Series B) Place C)Date D) Time Note: - From bcci.tv home page you have reach to the international fixture page through code."
   ]
  },
  {
   "cell_type": "code",
   "execution_count": 2,
   "id": "9f08387c",
   "metadata": {},
   "outputs": [],
   "source": [
    "driver=webdriver.Chrome()\n",
    "driver.get('https://www.bcci.tv/.You')"
   ]
  },
  {
   "cell_type": "code",
   "execution_count": 3,
   "id": "910a7219",
   "metadata": {},
   "outputs": [],
   "source": [
    "Match=[]\n",
    "Series=[]\n",
    "Place=[]\n",
    "Date=[]\n",
    "Time_Note=[]"
   ]
  },
  {
   "cell_type": "code",
   "execution_count": 4,
   "id": "f0045e60",
   "metadata": {},
   "outputs": [],
   "source": [
    "fix=driver.find_element(By.XPATH,'/html/body/header/div[3]/div[2]/ul/div[1]/a[2]')\n",
    "fix.click()"
   ]
  },
  {
   "cell_type": "code",
   "execution_count": 5,
   "id": "a7f64ab0",
   "metadata": {},
   "outputs": [
    {
     "data": {
      "text/plain": [
       "(7,\n",
       " ['4th Test',\n",
       "  '5th Test',\n",
       "  '1st T20I',\n",
       "  '2nd T20I',\n",
       "  '3rd T20I',\n",
       "  '4th T20I',\n",
       "  '5th T20I'])"
      ]
     },
     "execution_count": 5,
     "metadata": {},
     "output_type": "execute_result"
    }
   ],
   "source": [
    "match=driver.find_elements(By.XPATH,'//div[@class=\"tags-wrap\"]//span[1]')\n",
    "for i in match:\n",
    "    Match.append(i.text)\n",
    "    \n",
    "len(Match),Match"
   ]
  },
  {
   "cell_type": "code",
   "execution_count": 6,
   "id": "d832daac",
   "metadata": {},
   "outputs": [
    {
     "data": {
      "text/plain": [
       "(7,\n",
       " ['ENGLAND TOUR OF INDIA 2023-24',\n",
       "  'ENGLAND TOUR OF INDIA 2023-24',\n",
       "  'INDIA TOUR OF ZIMBABWE 2024',\n",
       "  'INDIA TOUR OF ZIMBABWE 2024',\n",
       "  'INDIA TOUR OF ZIMBABWE 2024',\n",
       "  'INDIA TOUR OF ZIMBABWE 2024',\n",
       "  'INDIA TOUR OF ZIMBABWE 2024'])"
      ]
     },
     "execution_count": 6,
     "metadata": {},
     "output_type": "execute_result"
    }
   ],
   "source": [
    "series=driver.find_elements(By.XPATH,'//div[@class=\"match-info\"]//h5')\n",
    "for i in series:\n",
    "    Series.append(i.text)\n",
    "    \n",
    "len(Series),Series"
   ]
  },
  {
   "cell_type": "code",
   "execution_count": 7,
   "id": "a4c7948e",
   "metadata": {},
   "outputs": [
    {
     "data": {
      "text/plain": [
       "(7,\n",
       " ['JSCA International Stadium Complex, Ranchi',\n",
       "  'Himachal Pradesh Cricket Association Stadium, Dharamsala',\n",
       "  'Harare Sports Club, Harare',\n",
       "  'Harare Sports Club, Harare',\n",
       "  'Harare Sports Club, Harare',\n",
       "  'Harare Sports Club, Harare',\n",
       "  'Harare Sports Club, Harare'])"
      ]
     },
     "execution_count": 7,
     "metadata": {},
     "output_type": "execute_result"
    }
   ],
   "source": [
    "place=driver.find_elements(By.XPATH,'//div[@class=\"match-place ng-scope\"]')\n",
    "for i in place:\n",
    "    Place.append(i.text)\n",
    "    \n",
    "len(Place),Place"
   ]
  },
  {
   "cell_type": "code",
   "execution_count": 8,
   "id": "39bad4cb",
   "metadata": {},
   "outputs": [
    {
     "data": {
      "text/plain": [
       "(7,\n",
       " ['23 FEBRUARY, 2024',\n",
       "  '7 MARCH, 2024',\n",
       "  '6 JULY, 2024',\n",
       "  '7 JULY, 2024',\n",
       "  '10 JULY, 2024',\n",
       "  '13 JULY, 2024',\n",
       "  '14 JULY, 2024'])"
      ]
     },
     "execution_count": 8,
     "metadata": {},
     "output_type": "execute_result"
    }
   ],
   "source": [
    "date=driver.find_elements(By.XPATH,'//div[@class=\"match-dates ng-binding\"]')\n",
    "for i in date:\n",
    "    Date.append(i.text)\n",
    "    \n",
    "len(Date),Date"
   ]
  },
  {
   "cell_type": "code",
   "execution_count": 9,
   "id": "f0f5ff97",
   "metadata": {},
   "outputs": [
    {
     "data": {
      "text/plain": [
       "(7,\n",
       " ['9:30 AM IST',\n",
       "  '9:30 AM IST',\n",
       "  '8:00 PM IST',\n",
       "  '8:00 PM IST',\n",
       "  '8:00 PM IST',\n",
       "  '8:00 PM IST',\n",
       "  '8:00 PM IST'])"
      ]
     },
     "execution_count": 9,
     "metadata": {},
     "output_type": "execute_result"
    }
   ],
   "source": [
    "time=driver.find_elements(By.XPATH,'//div[@class=\"match-time no-margin ng-binding\"]')\n",
    "for i in time:\n",
    "    Time_Note.append(i.text)\n",
    "    \n",
    "len(Time_Note),Time_Note"
   ]
  },
  {
   "cell_type": "code",
   "execution_count": 10,
   "id": "0a5b527c",
   "metadata": {},
   "outputs": [
    {
     "data": {
      "text/html": [
       "<div>\n",
       "<style scoped>\n",
       "    .dataframe tbody tr th:only-of-type {\n",
       "        vertical-align: middle;\n",
       "    }\n",
       "\n",
       "    .dataframe tbody tr th {\n",
       "        vertical-align: top;\n",
       "    }\n",
       "\n",
       "    .dataframe thead th {\n",
       "        text-align: right;\n",
       "    }\n",
       "</style>\n",
       "<table border=\"1\" class=\"dataframe\">\n",
       "  <thead>\n",
       "    <tr style=\"text-align: right;\">\n",
       "      <th></th>\n",
       "      <th>Match</th>\n",
       "      <th>Series</th>\n",
       "      <th>Place</th>\n",
       "      <th>Date</th>\n",
       "      <th>Time_Note</th>\n",
       "    </tr>\n",
       "  </thead>\n",
       "  <tbody>\n",
       "    <tr>\n",
       "      <th>0</th>\n",
       "      <td>4th Test</td>\n",
       "      <td>ENGLAND TOUR OF INDIA 2023-24</td>\n",
       "      <td>JSCA International Stadium Complex, Ranchi</td>\n",
       "      <td>23 FEBRUARY, 2024</td>\n",
       "      <td>9:30 AM IST</td>\n",
       "    </tr>\n",
       "    <tr>\n",
       "      <th>1</th>\n",
       "      <td>5th Test</td>\n",
       "      <td>ENGLAND TOUR OF INDIA 2023-24</td>\n",
       "      <td>Himachal Pradesh Cricket Association Stadium, ...</td>\n",
       "      <td>7 MARCH, 2024</td>\n",
       "      <td>9:30 AM IST</td>\n",
       "    </tr>\n",
       "    <tr>\n",
       "      <th>2</th>\n",
       "      <td>1st T20I</td>\n",
       "      <td>INDIA TOUR OF ZIMBABWE 2024</td>\n",
       "      <td>Harare Sports Club, Harare</td>\n",
       "      <td>6 JULY, 2024</td>\n",
       "      <td>8:00 PM IST</td>\n",
       "    </tr>\n",
       "    <tr>\n",
       "      <th>3</th>\n",
       "      <td>2nd T20I</td>\n",
       "      <td>INDIA TOUR OF ZIMBABWE 2024</td>\n",
       "      <td>Harare Sports Club, Harare</td>\n",
       "      <td>7 JULY, 2024</td>\n",
       "      <td>8:00 PM IST</td>\n",
       "    </tr>\n",
       "    <tr>\n",
       "      <th>4</th>\n",
       "      <td>3rd T20I</td>\n",
       "      <td>INDIA TOUR OF ZIMBABWE 2024</td>\n",
       "      <td>Harare Sports Club, Harare</td>\n",
       "      <td>10 JULY, 2024</td>\n",
       "      <td>8:00 PM IST</td>\n",
       "    </tr>\n",
       "    <tr>\n",
       "      <th>5</th>\n",
       "      <td>4th T20I</td>\n",
       "      <td>INDIA TOUR OF ZIMBABWE 2024</td>\n",
       "      <td>Harare Sports Club, Harare</td>\n",
       "      <td>13 JULY, 2024</td>\n",
       "      <td>8:00 PM IST</td>\n",
       "    </tr>\n",
       "    <tr>\n",
       "      <th>6</th>\n",
       "      <td>5th T20I</td>\n",
       "      <td>INDIA TOUR OF ZIMBABWE 2024</td>\n",
       "      <td>Harare Sports Club, Harare</td>\n",
       "      <td>14 JULY, 2024</td>\n",
       "      <td>8:00 PM IST</td>\n",
       "    </tr>\n",
       "  </tbody>\n",
       "</table>\n",
       "</div>"
      ],
      "text/plain": [
       "      Match                         Series  \\\n",
       "0  4th Test  ENGLAND TOUR OF INDIA 2023-24   \n",
       "1  5th Test  ENGLAND TOUR OF INDIA 2023-24   \n",
       "2  1st T20I    INDIA TOUR OF ZIMBABWE 2024   \n",
       "3  2nd T20I    INDIA TOUR OF ZIMBABWE 2024   \n",
       "4  3rd T20I    INDIA TOUR OF ZIMBABWE 2024   \n",
       "5  4th T20I    INDIA TOUR OF ZIMBABWE 2024   \n",
       "6  5th T20I    INDIA TOUR OF ZIMBABWE 2024   \n",
       "\n",
       "                                               Place               Date  \\\n",
       "0         JSCA International Stadium Complex, Ranchi  23 FEBRUARY, 2024   \n",
       "1  Himachal Pradesh Cricket Association Stadium, ...      7 MARCH, 2024   \n",
       "2                         Harare Sports Club, Harare       6 JULY, 2024   \n",
       "3                         Harare Sports Club, Harare       7 JULY, 2024   \n",
       "4                         Harare Sports Club, Harare      10 JULY, 2024   \n",
       "5                         Harare Sports Club, Harare      13 JULY, 2024   \n",
       "6                         Harare Sports Club, Harare      14 JULY, 2024   \n",
       "\n",
       "     Time_Note  \n",
       "0  9:30 AM IST  \n",
       "1  9:30 AM IST  \n",
       "2  8:00 PM IST  \n",
       "3  8:00 PM IST  \n",
       "4  8:00 PM IST  \n",
       "5  8:00 PM IST  \n",
       "6  8:00 PM IST  "
      ]
     },
     "execution_count": 10,
     "metadata": {},
     "output_type": "execute_result"
    }
   ],
   "source": [
    "matches=pd.DataFrame({'Match':Match,'Series':Series,'Place':Place,'Date':Date,'Time_Note':Time_Note})\n",
    "matches"
   ]
  },
  {
   "cell_type": "markdown",
   "id": "c1abea0d",
   "metadata": {},
   "source": [
    "# 3. Scrape the details of State-wise GDP of India from statisticstime.com.Url = http://statisticstimes.com/ You have to find following details: A) Rank B) State C) GSDP(18-19)- at current prices D) GSDP(19-20)- at current prices E) Share(18-19) F) GDP($ billion) Note: - From statisticstimes home page you have to reach to economy page through code."
   ]
  },
  {
   "cell_type": "code",
   "execution_count": 2,
   "id": "63012452",
   "metadata": {},
   "outputs": [],
   "source": [
    "driver=webdriver.Chrome()\n",
    "driver.get('http://statisticstimes.com/')"
   ]
  },
  {
   "cell_type": "code",
   "execution_count": 3,
   "id": "67b67c0a",
   "metadata": {},
   "outputs": [],
   "source": [
    "Rank=[]\n",
    "State=[]\n",
    "GSDP_Current=[]\n",
    "GSDP_Previous=[]\n",
    "Share_In_GDP=[]\n",
    "GDP=[]"
   ]
  },
  {
   "cell_type": "code",
   "execution_count": 4,
   "id": "cbe72f72",
   "metadata": {},
   "outputs": [],
   "source": [
    "economy=driver.find_element(By.XPATH,'//div[@class=\"navbar\"]//div[2]/button')\n",
    "economy.click()"
   ]
  },
  {
   "cell_type": "code",
   "execution_count": 5,
   "id": "5c8e92d9",
   "metadata": {},
   "outputs": [],
   "source": [
    "india=driver.find_element(By.XPATH,'//div[@class=\"navbar\"]//div[2]/div/a[3]')\n",
    "india.click()"
   ]
  },
  {
   "cell_type": "code",
   "execution_count": 6,
   "id": "740869dd",
   "metadata": {},
   "outputs": [],
   "source": [
    "gdp=driver.find_element(By.XPATH,'/html/body/div[2]/div[2]/div[2]/ul/li[1]/a')\n",
    "gdp.click()"
   ]
  },
  {
   "cell_type": "code",
   "execution_count": 7,
   "id": "00c07bc5",
   "metadata": {},
   "outputs": [
    {
     "name": "stdout",
     "output_type": "stream",
     "text": [
      "['1', '2', '3', '4', '5', '6', '7', '8', '9', '10', '11', '12', '13', '14', '15', '16', '17', '18', '19', '20', '21', '22', '23', '24', '25', '26', '27', '28', '29', '30', '31', '32', '33']\n"
     ]
    },
    {
     "data": {
      "text/plain": [
       "(33, None)"
      ]
     },
     "execution_count": 7,
     "metadata": {},
     "output_type": "execute_result"
    }
   ],
   "source": [
    "r = driver.find_elements(By.XPATH,'//*[@id=\"table_id\"]//tbody/tr/td[1]')\n",
    "for i in r:\n",
    "    if i.text is None:\n",
    "        Rank.append('-')\n",
    "    else:\n",
    "        Rank.append(i.text)\n",
    "        \n",
    "len(Rank),print(Rank)"
   ]
  },
  {
   "cell_type": "code",
   "execution_count": 8,
   "id": "27b6918d",
   "metadata": {},
   "outputs": [
    {
     "name": "stdout",
     "output_type": "stream",
     "text": [
      "['Maharashtra', 'Tamil Nadu', 'Uttar Pradesh', 'Karnataka', 'Gujarat', 'West Bengal', 'Rajasthan', 'Madhya Pradesh', 'Andhra Pradesh', 'Telangana', 'Kerala', 'Delhi', 'Haryana', 'Odisha', 'Bihar', 'Punjab', 'Assam', 'Chhattisgarh', 'Jharkhand', 'Uttarakhand', 'Jammu & Kashmir-UT', 'Himachal Pradesh', 'Goa', 'Tripura', 'Chandigarh', 'Puducherry', 'Meghalaya', 'Sikkim', 'Manipur', 'Arunachal Pradesh', 'Nagaland', 'Mizoram', 'Andaman & Nicobar Islands']\n"
     ]
    },
    {
     "data": {
      "text/plain": [
       "(33, None)"
      ]
     },
     "execution_count": 8,
     "metadata": {},
     "output_type": "execute_result"
    }
   ],
   "source": [
    "st=driver.find_elements(By.XPATH,'//*[@id=\"table_id\"]//tbody/tr/td[2]')\n",
    "for i in st:\n",
    "    if i.text is None:\n",
    "        State.append('-')\n",
    "    else:\n",
    "        State.append(i.text)\n",
    "        \n",
    "len(State),print(State)"
   ]
  },
  {
   "cell_type": "code",
   "execution_count": 9,
   "id": "0c75a929",
   "metadata": {},
   "outputs": [
    {
     "name": "stdout",
     "output_type": "stream",
     "text": [
      "['-', '2,364,514', '2,257,575', '2,241,368', '-', '1,554,992', '1,413,620', '1,322,821', '1,317,728', '1,313,391', '-', '1,043,759', '994,154', '774,869', '751,396', '673,107', '493,167', '457,608', '393,722', '302,621', '227,927', '195,405', '-', '72,636', '-', '-', '42,697', '42,756', '-', '-', '-', '-', '-']\n"
     ]
    },
    {
     "data": {
      "text/plain": [
       "(33, None)"
      ]
     },
     "execution_count": 9,
     "metadata": {},
     "output_type": "execute_result"
    }
   ],
   "source": [
    "gc=driver.find_elements(By.XPATH,'//*[@id=\"table_id\"]//tbody/tr/td[3]')\n",
    "for i in gc:\n",
    "    if i.text is None:\n",
    "        GSDP_Current.append('-')\n",
    "    else:\n",
    "        GSDP_Current.append(i.text)\n",
    "        \n",
    "len(GSDP_Current),print(GSDP_Current)"
   ]
  },
  {
   "cell_type": "code",
   "execution_count": 10,
   "id": "b97109cb",
   "metadata": {},
   "outputs": [
    {
     "name": "stdout",
     "output_type": "stream",
     "text": [
      "['3,108,022', '2,071,286', '1,974,532', '1,962,725', '1,937,066', '1,363,926', '1,218,193', '1,136,137', '1,133,837', '1,128,907', '932,470', '904,642', '870,665', '670,881', '650,302', '614,227', '412,612', '406,416', '358,863', '272,159', '199,917', '176,269', '82,604', '62,550', '45,635', '44,238', '38,785', '37,557', '36,594', '35,124', '31,913', '27,824', '10,371']\n"
     ]
    },
    {
     "data": {
      "text/plain": [
       "(33, None)"
      ]
     },
     "execution_count": 10,
     "metadata": {},
     "output_type": "execute_result"
    }
   ],
   "source": [
    "gp=driver.find_elements(By.XPATH,'//*[@id=\"table_id\"]//tbody/tr/td[4]')\n",
    "for i in gp:\n",
    "    if i.text is None:\n",
    "        GSDP_Previous.append('-')\n",
    "    else:\n",
    "        GSDP_Previous.append(i.text)\n",
    "        \n",
    "len(GSDP_Previous),print(GSDP_Previous)"
   ]
  },
  {
   "cell_type": "code",
   "execution_count": 11,
   "id": "1ddc1842",
   "metadata": {},
   "outputs": [
    {
     "name": "stdout",
     "output_type": "stream",
     "text": [
      "['13.24%', '8.82%', '8.41%', '8.36%', '8.25%', '5.81%', '5.19%', '4.84%', '4.83%', '4.81%', '3.97%', '3.85%', '3.71%', '2.86%', '2.77%', '2.62%', '1.76%', '1.73%', '1.53%', '1.16%', '0.85%', '0.75%', '0.35%', '0.27%', '0.19%', '0.19%', '0.17%', '0.16%', '0.16%', '0.15%', '0.14%', '0.12%', '0.04%']\n"
     ]
    },
    {
     "data": {
      "text/plain": [
       "(33, None)"
      ]
     },
     "execution_count": 11,
     "metadata": {},
     "output_type": "execute_result"
    }
   ],
   "source": [
    "sg=driver.find_elements(By.XPATH,'//*[@id=\"table_id\"]//tbody/tr/td[5]')\n",
    "for i in sg:\n",
    "    if i.text is None:\n",
    "        Share_In_GDP.append('-')\n",
    "    else:\n",
    "        Share_In_GDP.append(i.text)\n",
    "        \n",
    "len(Share_In_GDP),print(Share_In_GDP)"
   ]
  },
  {
   "cell_type": "code",
   "execution_count": 12,
   "id": "530253a3",
   "metadata": {},
   "outputs": [
    {
     "name": "stdout",
     "output_type": "stream",
     "text": [
      "['417.163', '278.011', '265.024', '263.440', '259.996', '183.068', '163.507', '152.494', '152.185', '151.523', '125.157', '121.422', '116.862', '90.047', '87.284', '82.442', '55.381', '54.550', '48.167', '36.530', '26.833', '23.659', '11.087', '8.396', '6.125', '5.938', '5.206', '5.041', '4.912', '4.714', '4.283', '3.735', '1.392']\n"
     ]
    },
    {
     "data": {
      "text/plain": [
       "(33, None)"
      ]
     },
     "execution_count": 12,
     "metadata": {},
     "output_type": "execute_result"
    }
   ],
   "source": [
    "gd=driver.find_elements(By.XPATH,'//*[@id=\"table_id\"]//tbody/tr/td[6]')\n",
    "for i in gd:\n",
    "    if i.text is None:\n",
    "        GDP.append('-')\n",
    "    else:\n",
    "        GDP.append(i.text)\n",
    "        \n",
    "len(GDP),print(GDP)"
   ]
  },
  {
   "cell_type": "code",
   "execution_count": 14,
   "id": "93a7fb39",
   "metadata": {},
   "outputs": [
    {
     "data": {
      "text/html": [
       "<div>\n",
       "<style scoped>\n",
       "    .dataframe tbody tr th:only-of-type {\n",
       "        vertical-align: middle;\n",
       "    }\n",
       "\n",
       "    .dataframe tbody tr th {\n",
       "        vertical-align: top;\n",
       "    }\n",
       "\n",
       "    .dataframe thead th {\n",
       "        text-align: right;\n",
       "    }\n",
       "</style>\n",
       "<table border=\"1\" class=\"dataframe\">\n",
       "  <thead>\n",
       "    <tr style=\"text-align: right;\">\n",
       "      <th></th>\n",
       "      <th>Rank</th>\n",
       "      <th>State</th>\n",
       "      <th>GSDP_Current</th>\n",
       "      <th>GSDP_Previous</th>\n",
       "      <th>Share_In_GDP</th>\n",
       "      <th>GDP</th>\n",
       "    </tr>\n",
       "  </thead>\n",
       "  <tbody>\n",
       "    <tr>\n",
       "      <th>0</th>\n",
       "      <td>1</td>\n",
       "      <td>Maharashtra</td>\n",
       "      <td>-</td>\n",
       "      <td>3,108,022</td>\n",
       "      <td>13.24%</td>\n",
       "      <td>417.163</td>\n",
       "    </tr>\n",
       "    <tr>\n",
       "      <th>1</th>\n",
       "      <td>2</td>\n",
       "      <td>Tamil Nadu</td>\n",
       "      <td>2,364,514</td>\n",
       "      <td>2,071,286</td>\n",
       "      <td>8.82%</td>\n",
       "      <td>278.011</td>\n",
       "    </tr>\n",
       "    <tr>\n",
       "      <th>2</th>\n",
       "      <td>3</td>\n",
       "      <td>Uttar Pradesh</td>\n",
       "      <td>2,257,575</td>\n",
       "      <td>1,974,532</td>\n",
       "      <td>8.41%</td>\n",
       "      <td>265.024</td>\n",
       "    </tr>\n",
       "    <tr>\n",
       "      <th>3</th>\n",
       "      <td>4</td>\n",
       "      <td>Karnataka</td>\n",
       "      <td>2,241,368</td>\n",
       "      <td>1,962,725</td>\n",
       "      <td>8.36%</td>\n",
       "      <td>263.440</td>\n",
       "    </tr>\n",
       "    <tr>\n",
       "      <th>4</th>\n",
       "      <td>5</td>\n",
       "      <td>Gujarat</td>\n",
       "      <td>-</td>\n",
       "      <td>1,937,066</td>\n",
       "      <td>8.25%</td>\n",
       "      <td>259.996</td>\n",
       "    </tr>\n",
       "    <tr>\n",
       "      <th>5</th>\n",
       "      <td>6</td>\n",
       "      <td>West Bengal</td>\n",
       "      <td>1,554,992</td>\n",
       "      <td>1,363,926</td>\n",
       "      <td>5.81%</td>\n",
       "      <td>183.068</td>\n",
       "    </tr>\n",
       "    <tr>\n",
       "      <th>6</th>\n",
       "      <td>7</td>\n",
       "      <td>Rajasthan</td>\n",
       "      <td>1,413,620</td>\n",
       "      <td>1,218,193</td>\n",
       "      <td>5.19%</td>\n",
       "      <td>163.507</td>\n",
       "    </tr>\n",
       "    <tr>\n",
       "      <th>7</th>\n",
       "      <td>8</td>\n",
       "      <td>Madhya Pradesh</td>\n",
       "      <td>1,322,821</td>\n",
       "      <td>1,136,137</td>\n",
       "      <td>4.84%</td>\n",
       "      <td>152.494</td>\n",
       "    </tr>\n",
       "    <tr>\n",
       "      <th>8</th>\n",
       "      <td>9</td>\n",
       "      <td>Andhra Pradesh</td>\n",
       "      <td>1,317,728</td>\n",
       "      <td>1,133,837</td>\n",
       "      <td>4.83%</td>\n",
       "      <td>152.185</td>\n",
       "    </tr>\n",
       "    <tr>\n",
       "      <th>9</th>\n",
       "      <td>10</td>\n",
       "      <td>Telangana</td>\n",
       "      <td>1,313,391</td>\n",
       "      <td>1,128,907</td>\n",
       "      <td>4.81%</td>\n",
       "      <td>151.523</td>\n",
       "    </tr>\n",
       "    <tr>\n",
       "      <th>10</th>\n",
       "      <td>11</td>\n",
       "      <td>Kerala</td>\n",
       "      <td>-</td>\n",
       "      <td>932,470</td>\n",
       "      <td>3.97%</td>\n",
       "      <td>125.157</td>\n",
       "    </tr>\n",
       "    <tr>\n",
       "      <th>11</th>\n",
       "      <td>12</td>\n",
       "      <td>Delhi</td>\n",
       "      <td>1,043,759</td>\n",
       "      <td>904,642</td>\n",
       "      <td>3.85%</td>\n",
       "      <td>121.422</td>\n",
       "    </tr>\n",
       "    <tr>\n",
       "      <th>12</th>\n",
       "      <td>13</td>\n",
       "      <td>Haryana</td>\n",
       "      <td>994,154</td>\n",
       "      <td>870,665</td>\n",
       "      <td>3.71%</td>\n",
       "      <td>116.862</td>\n",
       "    </tr>\n",
       "    <tr>\n",
       "      <th>13</th>\n",
       "      <td>14</td>\n",
       "      <td>Odisha</td>\n",
       "      <td>774,869</td>\n",
       "      <td>670,881</td>\n",
       "      <td>2.86%</td>\n",
       "      <td>90.047</td>\n",
       "    </tr>\n",
       "    <tr>\n",
       "      <th>14</th>\n",
       "      <td>15</td>\n",
       "      <td>Bihar</td>\n",
       "      <td>751,396</td>\n",
       "      <td>650,302</td>\n",
       "      <td>2.77%</td>\n",
       "      <td>87.284</td>\n",
       "    </tr>\n",
       "    <tr>\n",
       "      <th>15</th>\n",
       "      <td>16</td>\n",
       "      <td>Punjab</td>\n",
       "      <td>673,107</td>\n",
       "      <td>614,227</td>\n",
       "      <td>2.62%</td>\n",
       "      <td>82.442</td>\n",
       "    </tr>\n",
       "    <tr>\n",
       "      <th>16</th>\n",
       "      <td>17</td>\n",
       "      <td>Assam</td>\n",
       "      <td>493,167</td>\n",
       "      <td>412,612</td>\n",
       "      <td>1.76%</td>\n",
       "      <td>55.381</td>\n",
       "    </tr>\n",
       "    <tr>\n",
       "      <th>17</th>\n",
       "      <td>18</td>\n",
       "      <td>Chhattisgarh</td>\n",
       "      <td>457,608</td>\n",
       "      <td>406,416</td>\n",
       "      <td>1.73%</td>\n",
       "      <td>54.550</td>\n",
       "    </tr>\n",
       "    <tr>\n",
       "      <th>18</th>\n",
       "      <td>19</td>\n",
       "      <td>Jharkhand</td>\n",
       "      <td>393,722</td>\n",
       "      <td>358,863</td>\n",
       "      <td>1.53%</td>\n",
       "      <td>48.167</td>\n",
       "    </tr>\n",
       "    <tr>\n",
       "      <th>19</th>\n",
       "      <td>20</td>\n",
       "      <td>Uttarakhand</td>\n",
       "      <td>302,621</td>\n",
       "      <td>272,159</td>\n",
       "      <td>1.16%</td>\n",
       "      <td>36.530</td>\n",
       "    </tr>\n",
       "    <tr>\n",
       "      <th>20</th>\n",
       "      <td>21</td>\n",
       "      <td>Jammu &amp; Kashmir-UT</td>\n",
       "      <td>227,927</td>\n",
       "      <td>199,917</td>\n",
       "      <td>0.85%</td>\n",
       "      <td>26.833</td>\n",
       "    </tr>\n",
       "    <tr>\n",
       "      <th>21</th>\n",
       "      <td>22</td>\n",
       "      <td>Himachal Pradesh</td>\n",
       "      <td>195,405</td>\n",
       "      <td>176,269</td>\n",
       "      <td>0.75%</td>\n",
       "      <td>23.659</td>\n",
       "    </tr>\n",
       "    <tr>\n",
       "      <th>22</th>\n",
       "      <td>23</td>\n",
       "      <td>Goa</td>\n",
       "      <td>-</td>\n",
       "      <td>82,604</td>\n",
       "      <td>0.35%</td>\n",
       "      <td>11.087</td>\n",
       "    </tr>\n",
       "    <tr>\n",
       "      <th>23</th>\n",
       "      <td>24</td>\n",
       "      <td>Tripura</td>\n",
       "      <td>72,636</td>\n",
       "      <td>62,550</td>\n",
       "      <td>0.27%</td>\n",
       "      <td>8.396</td>\n",
       "    </tr>\n",
       "    <tr>\n",
       "      <th>24</th>\n",
       "      <td>25</td>\n",
       "      <td>Chandigarh</td>\n",
       "      <td>-</td>\n",
       "      <td>45,635</td>\n",
       "      <td>0.19%</td>\n",
       "      <td>6.125</td>\n",
       "    </tr>\n",
       "    <tr>\n",
       "      <th>25</th>\n",
       "      <td>26</td>\n",
       "      <td>Puducherry</td>\n",
       "      <td>-</td>\n",
       "      <td>44,238</td>\n",
       "      <td>0.19%</td>\n",
       "      <td>5.938</td>\n",
       "    </tr>\n",
       "    <tr>\n",
       "      <th>26</th>\n",
       "      <td>27</td>\n",
       "      <td>Meghalaya</td>\n",
       "      <td>42,697</td>\n",
       "      <td>38,785</td>\n",
       "      <td>0.17%</td>\n",
       "      <td>5.206</td>\n",
       "    </tr>\n",
       "    <tr>\n",
       "      <th>27</th>\n",
       "      <td>28</td>\n",
       "      <td>Sikkim</td>\n",
       "      <td>42,756</td>\n",
       "      <td>37,557</td>\n",
       "      <td>0.16%</td>\n",
       "      <td>5.041</td>\n",
       "    </tr>\n",
       "    <tr>\n",
       "      <th>28</th>\n",
       "      <td>29</td>\n",
       "      <td>Manipur</td>\n",
       "      <td>-</td>\n",
       "      <td>36,594</td>\n",
       "      <td>0.16%</td>\n",
       "      <td>4.912</td>\n",
       "    </tr>\n",
       "    <tr>\n",
       "      <th>29</th>\n",
       "      <td>30</td>\n",
       "      <td>Arunachal Pradesh</td>\n",
       "      <td>-</td>\n",
       "      <td>35,124</td>\n",
       "      <td>0.15%</td>\n",
       "      <td>4.714</td>\n",
       "    </tr>\n",
       "    <tr>\n",
       "      <th>30</th>\n",
       "      <td>31</td>\n",
       "      <td>Nagaland</td>\n",
       "      <td>-</td>\n",
       "      <td>31,913</td>\n",
       "      <td>0.14%</td>\n",
       "      <td>4.283</td>\n",
       "    </tr>\n",
       "    <tr>\n",
       "      <th>31</th>\n",
       "      <td>32</td>\n",
       "      <td>Mizoram</td>\n",
       "      <td>-</td>\n",
       "      <td>27,824</td>\n",
       "      <td>0.12%</td>\n",
       "      <td>3.735</td>\n",
       "    </tr>\n",
       "    <tr>\n",
       "      <th>32</th>\n",
       "      <td>33</td>\n",
       "      <td>Andaman &amp; Nicobar Islands</td>\n",
       "      <td>-</td>\n",
       "      <td>10,371</td>\n",
       "      <td>0.04%</td>\n",
       "      <td>1.392</td>\n",
       "    </tr>\n",
       "  </tbody>\n",
       "</table>\n",
       "</div>"
      ],
      "text/plain": [
       "   Rank                      State GSDP_Current GSDP_Previous Share_In_GDP  \\\n",
       "0     1                Maharashtra            -     3,108,022       13.24%   \n",
       "1     2                 Tamil Nadu    2,364,514     2,071,286        8.82%   \n",
       "2     3              Uttar Pradesh    2,257,575     1,974,532        8.41%   \n",
       "3     4                  Karnataka    2,241,368     1,962,725        8.36%   \n",
       "4     5                    Gujarat            -     1,937,066        8.25%   \n",
       "5     6                West Bengal    1,554,992     1,363,926        5.81%   \n",
       "6     7                  Rajasthan    1,413,620     1,218,193        5.19%   \n",
       "7     8             Madhya Pradesh    1,322,821     1,136,137        4.84%   \n",
       "8     9             Andhra Pradesh    1,317,728     1,133,837        4.83%   \n",
       "9    10                  Telangana    1,313,391     1,128,907        4.81%   \n",
       "10   11                     Kerala            -       932,470        3.97%   \n",
       "11   12                      Delhi    1,043,759       904,642        3.85%   \n",
       "12   13                    Haryana      994,154       870,665        3.71%   \n",
       "13   14                     Odisha      774,869       670,881        2.86%   \n",
       "14   15                      Bihar      751,396       650,302        2.77%   \n",
       "15   16                     Punjab      673,107       614,227        2.62%   \n",
       "16   17                      Assam      493,167       412,612        1.76%   \n",
       "17   18               Chhattisgarh      457,608       406,416        1.73%   \n",
       "18   19                  Jharkhand      393,722       358,863        1.53%   \n",
       "19   20                Uttarakhand      302,621       272,159        1.16%   \n",
       "20   21         Jammu & Kashmir-UT      227,927       199,917        0.85%   \n",
       "21   22           Himachal Pradesh      195,405       176,269        0.75%   \n",
       "22   23                        Goa            -        82,604        0.35%   \n",
       "23   24                    Tripura       72,636        62,550        0.27%   \n",
       "24   25                 Chandigarh            -        45,635        0.19%   \n",
       "25   26                 Puducherry            -        44,238        0.19%   \n",
       "26   27                  Meghalaya       42,697        38,785        0.17%   \n",
       "27   28                     Sikkim       42,756        37,557        0.16%   \n",
       "28   29                    Manipur            -        36,594        0.16%   \n",
       "29   30          Arunachal Pradesh            -        35,124        0.15%   \n",
       "30   31                   Nagaland            -        31,913        0.14%   \n",
       "31   32                    Mizoram            -        27,824        0.12%   \n",
       "32   33  Andaman & Nicobar Islands            -        10,371        0.04%   \n",
       "\n",
       "        GDP  \n",
       "0   417.163  \n",
       "1   278.011  \n",
       "2   265.024  \n",
       "3   263.440  \n",
       "4   259.996  \n",
       "5   183.068  \n",
       "6   163.507  \n",
       "7   152.494  \n",
       "8   152.185  \n",
       "9   151.523  \n",
       "10  125.157  \n",
       "11  121.422  \n",
       "12  116.862  \n",
       "13   90.047  \n",
       "14   87.284  \n",
       "15   82.442  \n",
       "16   55.381  \n",
       "17   54.550  \n",
       "18   48.167  \n",
       "19   36.530  \n",
       "20   26.833  \n",
       "21   23.659  \n",
       "22   11.087  \n",
       "23    8.396  \n",
       "24    6.125  \n",
       "25    5.938  \n",
       "26    5.206  \n",
       "27    5.041  \n",
       "28    4.912  \n",
       "29    4.714  \n",
       "30    4.283  \n",
       "31    3.735  \n",
       "32    1.392  "
      ]
     },
     "execution_count": 14,
     "metadata": {},
     "output_type": "execute_result"
    }
   ],
   "source": [
    "State_GDP=pd.DataFrame({'Rank':Rank,'State':State,'GSDP_Current':GSDP_Current,'GSDP_Previous':GSDP_Previous,'Share_In_GDP':Share_In_GDP,'GDP':GDP})\n",
    "State_GDP"
   ]
  },
  {
   "cell_type": "markdown",
   "id": "e02a0147",
   "metadata": {},
   "source": [
    "# 4. Scrape the details of trending repositories on Github.com. Url =https://github.com/ You have to find the following details:A) Repository title B)Repository description C)Contributors count D) Language used Note: - From the home page you have to click on the trending option from Explore menu through code."
   ]
  },
  {
   "cell_type": "code",
   "execution_count": 11,
   "id": "fd0bcde2",
   "metadata": {},
   "outputs": [],
   "source": [
    "driver=webdriver.Chrome()\n",
    "driver.get('https://github.com/')"
   ]
  },
  {
   "cell_type": "code",
   "execution_count": 13,
   "id": "a5c71ef7",
   "metadata": {},
   "outputs": [],
   "source": [
    "source=driver.find_element(By.XPATH,'/html/body/div[1]/div[1]/header/div/div[2]/div/nav/ul/li[3]/button')\n",
    "source.click()"
   ]
  },
  {
   "cell_type": "code",
   "execution_count": 14,
   "id": "9ab69c9c",
   "metadata": {},
   "outputs": [],
   "source": [
    "trending=driver.find_element(By.XPATH,'/html/body/div[1]/div[1]/header/div/div[2]/div/nav/ul/li[3]/div/div[3]/ul/li[2]/a')\n",
    "trending.click()"
   ]
  },
  {
   "cell_type": "code",
   "execution_count": 15,
   "id": "792c7313",
   "metadata": {},
   "outputs": [],
   "source": [
    "Title=[]\n",
    "Description=[]\n",
    "Contributors_Count=[]\n",
    "Language_Used=[]"
   ]
  },
  {
   "cell_type": "code",
   "execution_count": 16,
   "id": "165abb2c",
   "metadata": {},
   "outputs": [
    {
     "name": "stdout",
     "output_type": "stream",
     "text": [
      "['google /', 'google /', 'SoraWebui /', 'zed-industries /', 'facebook /', 'all-in-aigc /', 'jackfrued /', 'levihsu /', 'FujiwaraChoki /', 'mtkarimi /', 'localsend /', 'xiaolai /', 'google-deepmind /', 'zhayujie /', 'lobehub /', 'soufianetahiri /', 'weijunext /', 'keep-starknet-strange /', 'facebook /', 'open-telemetry /', 'songquanpeng /', 'ollama /', 'lencx /', 'starknet-io /', 'Azure-Samples /']\n"
     ]
    },
    {
     "data": {
      "text/plain": [
       "(25, None)"
      ]
     },
     "execution_count": 16,
     "metadata": {},
     "output_type": "execute_result"
    }
   ],
   "source": [
    "title=driver.find_elements(By.XPATH,'//span[@class=\"text-normal\"]')\n",
    "for i in title:\n",
    "    if i.text is None:\n",
    "        Title.append('-')\n",
    "    else:\n",
    "        Title.append(i.text)\n",
    "        \n",
    "len(Title),print(Title)"
   ]
  },
  {
   "cell_type": "code",
   "execution_count": 17,
   "id": "9f0d8292",
   "metadata": {},
   "outputs": [
    {
     "name": "stdout",
     "output_type": "stream",
     "text": [
      "[\"The official PyTorch implementation of Google's Gemma models\", \"lightweight, standalone C++ inference engine for Google's Gemma models.\", \"SoraWebui is an open-source Sora web client, enabling users to easily create videos from text with OpenAI's Sora model.\", 'Code at the speed of thought – Zed is a high-performance, multiplayer code editor from the creators of Atom and Tree-sitter.', 'React Strict DOM (RSD) is a subset of React DOM, imperative DOM, and CSS that supports web and native targets', 'Sora AI Video Generator by Sora.FM', 'Python - 100天从新手到大师', 'Official implementation of OOTDiffusion: Outfitting Fusion based Latent Diffusion for Controllable Virtual Try-on', 'Automate the process of making money online.', 'An open-source cross-platform alternative to AirDrop', '人人都能用英语', 'Open weights LLM from Google DeepMind.', '基于大模型搭建的微信聊天机器人，同时支持微信、企业微信、公众号、飞书、钉钉接入，可选择GPT3.5/GPT4.0/Claude/文心一言/讯飞星火/通义千问/Gemini/GLM-4/LinkAI，能处理文本、语音和图片，访问操作系统和互联网，支持基于自有知识库进行定制企业智能客服。', '🤯 Lobe Chat - an open-source, modern-design ChatGPT/LLMs UI/Framework. Supports speech-synthesis, multi-modal, and extensible plugin system. One-click FREE deployment of your private ChatGPT/Gemini/Ollama chat application.', 'I-SOON/Anxun leak related stuff', '收录独立开发者出海技术栈和工具', 'A curated list of awesome StarkNet resources, libraries, tools and more', 'A framework for building native applications using React', 'The OpenTelemetry C++ Client', 'OpenAI 接口管理 & 分发系统，支持 Azure、Anthropic Claude、Google PaLM 2 & Gemini、智谱 ChatGLM、百度文心一言、讯飞星火认知、阿里通义千问、360 智脑以及腾讯混元，可用于二次分发管理 key，仅单可执行文件，已打包好 Docker 镜像，一键部署，开箱即用. OpenAI key management & redistribution system, using a single API for all LLMs, and features an English UI.', 'Get up and running with Llama 2, Mistral, Gemma, and other large language models.', '🚀 Power Your World with AI - Explore, Extend, Empower.', 'Lists of eligible identities for Starknet provisions.', 'A sample app for the Retrieval-Augmented Generation pattern running in Azure, using Azure AI Search for retrieval and Azure OpenAI large language models to power ChatGPT-style and Q&A experiences.']\n"
     ]
    },
    {
     "data": {
      "text/plain": [
       "(24, None)"
      ]
     },
     "execution_count": 17,
     "metadata": {},
     "output_type": "execute_result"
    }
   ],
   "source": [
    "ds=driver.find_elements(By.XPATH,'//p[@class=\"col-9 color-fg-muted my-1 pr-4\"]')\n",
    "for i in ds:\n",
    "    if i.text is None:\n",
    "        Description.append('-')\n",
    "    else:\n",
    "        Description.append(i.text)\n",
    "        \n",
    "len(Description),print(Description)"
   ]
  },
  {
   "cell_type": "code",
   "execution_count": 18,
   "id": "0e6fa4d2",
   "metadata": {},
   "outputs": [
    {
     "name": "stdout",
     "output_type": "stream",
     "text": [
      "['Python', 'C++', 'TypeScript', 'Rust', 'JavaScript', 'TypeScript', 'Python', 'Python', 'Python', 'Python', 'Dart', 'Jupyter Notebook', 'Jupyter Notebook', 'Python', 'TypeScript', 'Python', 'C++', 'C++', 'JavaScript', 'Go', 'JavaScript', 'Python']\n"
     ]
    },
    {
     "data": {
      "text/plain": [
       "(22, None)"
      ]
     },
     "execution_count": 18,
     "metadata": {},
     "output_type": "execute_result"
    }
   ],
   "source": [
    "lu=driver.find_elements(By.XPATH,'//span[@class=\"d-inline-block ml-0 mr-3\"]')\n",
    "for i in lu:\n",
    "    if i.text is None:\n",
    "        Language_Used.append('-')\n",
    "    else:\n",
    "        Language_Used.append(i.text)\n",
    "        \n",
    "len(Language_Used),print(Language_Used)"
   ]
  },
  {
   "cell_type": "code",
   "execution_count": 19,
   "id": "f35c8f95",
   "metadata": {},
   "outputs": [
    {
     "name": "stdout",
     "output_type": "stream",
     "text": [
      "['267', '164', '228', '976', '94', '152', '50,797', '262', '137', '92', '1,416', '2,982', '121', '6,161', '3,976', '97', '159', '280', '23,730', '359', '2,419', '2,487', '115', '75', '2,977']\n"
     ]
    },
    {
     "data": {
      "text/plain": [
       "(25, None)"
      ]
     },
     "execution_count": 19,
     "metadata": {},
     "output_type": "execute_result"
    }
   ],
   "source": [
    "cc=driver.find_elements(By.XPATH,'//*[@class=\"Box-row\"]//div[2]/a[2]')\n",
    "for i in cc:\n",
    "    if i.text is None:\n",
    "        Contributors_Count.append('-')\n",
    "    else:\n",
    "        Contributors_Count.append(i.text)\n",
    "        \n",
    "len(Contributors_Count),print(Contributors_Count)"
   ]
  },
  {
   "cell_type": "code",
   "execution_count": 21,
   "id": "dbf69513",
   "metadata": {},
   "outputs": [
    {
     "data": {
      "text/html": [
       "<div>\n",
       "<style scoped>\n",
       "    .dataframe tbody tr th:only-of-type {\n",
       "        vertical-align: middle;\n",
       "    }\n",
       "\n",
       "    .dataframe tbody tr th {\n",
       "        vertical-align: top;\n",
       "    }\n",
       "\n",
       "    .dataframe thead th {\n",
       "        text-align: right;\n",
       "    }\n",
       "</style>\n",
       "<table border=\"1\" class=\"dataframe\">\n",
       "  <thead>\n",
       "    <tr style=\"text-align: right;\">\n",
       "      <th></th>\n",
       "      <th>Title</th>\n",
       "      <th>Description</th>\n",
       "      <th>Language_Used</th>\n",
       "      <th>Contributors_Count</th>\n",
       "    </tr>\n",
       "  </thead>\n",
       "  <tbody>\n",
       "    <tr>\n",
       "      <th>0</th>\n",
       "      <td>google /</td>\n",
       "      <td>The official PyTorch implementation of Google'...</td>\n",
       "      <td>Python</td>\n",
       "      <td>267</td>\n",
       "    </tr>\n",
       "    <tr>\n",
       "      <th>1</th>\n",
       "      <td>google /</td>\n",
       "      <td>lightweight, standalone C++ inference engine f...</td>\n",
       "      <td>C++</td>\n",
       "      <td>164</td>\n",
       "    </tr>\n",
       "    <tr>\n",
       "      <th>2</th>\n",
       "      <td>SoraWebui /</td>\n",
       "      <td>SoraWebui is an open-source Sora web client, e...</td>\n",
       "      <td>TypeScript</td>\n",
       "      <td>228</td>\n",
       "    </tr>\n",
       "    <tr>\n",
       "      <th>3</th>\n",
       "      <td>zed-industries /</td>\n",
       "      <td>Code at the speed of thought – Zed is a high-p...</td>\n",
       "      <td>Rust</td>\n",
       "      <td>976</td>\n",
       "    </tr>\n",
       "    <tr>\n",
       "      <th>4</th>\n",
       "      <td>facebook /</td>\n",
       "      <td>React Strict DOM (RSD) is a subset of React DO...</td>\n",
       "      <td>JavaScript</td>\n",
       "      <td>94</td>\n",
       "    </tr>\n",
       "    <tr>\n",
       "      <th>5</th>\n",
       "      <td>all-in-aigc /</td>\n",
       "      <td>Sora AI Video Generator by Sora.FM</td>\n",
       "      <td>TypeScript</td>\n",
       "      <td>152</td>\n",
       "    </tr>\n",
       "    <tr>\n",
       "      <th>6</th>\n",
       "      <td>jackfrued /</td>\n",
       "      <td>Python - 100天从新手到大师</td>\n",
       "      <td>Python</td>\n",
       "      <td>50,797</td>\n",
       "    </tr>\n",
       "    <tr>\n",
       "      <th>7</th>\n",
       "      <td>levihsu /</td>\n",
       "      <td>Official implementation of OOTDiffusion: Outfi...</td>\n",
       "      <td>Python</td>\n",
       "      <td>262</td>\n",
       "    </tr>\n",
       "    <tr>\n",
       "      <th>8</th>\n",
       "      <td>FujiwaraChoki /</td>\n",
       "      <td>Automate the process of making money online.</td>\n",
       "      <td>Python</td>\n",
       "      <td>137</td>\n",
       "    </tr>\n",
       "    <tr>\n",
       "      <th>9</th>\n",
       "      <td>mtkarimi /</td>\n",
       "      <td>An open-source cross-platform alternative to A...</td>\n",
       "      <td>Python</td>\n",
       "      <td>92</td>\n",
       "    </tr>\n",
       "    <tr>\n",
       "      <th>10</th>\n",
       "      <td>localsend /</td>\n",
       "      <td>人人都能用英语</td>\n",
       "      <td>Dart</td>\n",
       "      <td>1,416</td>\n",
       "    </tr>\n",
       "    <tr>\n",
       "      <th>11</th>\n",
       "      <td>xiaolai /</td>\n",
       "      <td>Open weights LLM from Google DeepMind.</td>\n",
       "      <td>Jupyter Notebook</td>\n",
       "      <td>2,982</td>\n",
       "    </tr>\n",
       "    <tr>\n",
       "      <th>12</th>\n",
       "      <td>google-deepmind /</td>\n",
       "      <td>基于大模型搭建的微信聊天机器人，同时支持微信、企业微信、公众号、飞书、钉钉接入，可选择GPT...</td>\n",
       "      <td>Jupyter Notebook</td>\n",
       "      <td>121</td>\n",
       "    </tr>\n",
       "    <tr>\n",
       "      <th>13</th>\n",
       "      <td>zhayujie /</td>\n",
       "      <td>🤯 Lobe Chat - an open-source, modern-design Ch...</td>\n",
       "      <td>Python</td>\n",
       "      <td>6,161</td>\n",
       "    </tr>\n",
       "    <tr>\n",
       "      <th>14</th>\n",
       "      <td>lobehub /</td>\n",
       "      <td>I-SOON/Anxun leak related stuff</td>\n",
       "      <td>TypeScript</td>\n",
       "      <td>3,976</td>\n",
       "    </tr>\n",
       "    <tr>\n",
       "      <th>15</th>\n",
       "      <td>soufianetahiri /</td>\n",
       "      <td>收录独立开发者出海技术栈和工具</td>\n",
       "      <td>Python</td>\n",
       "      <td>97</td>\n",
       "    </tr>\n",
       "    <tr>\n",
       "      <th>16</th>\n",
       "      <td>weijunext /</td>\n",
       "      <td>A curated list of awesome StarkNet resources, ...</td>\n",
       "      <td>C++</td>\n",
       "      <td>159</td>\n",
       "    </tr>\n",
       "    <tr>\n",
       "      <th>17</th>\n",
       "      <td>keep-starknet-strange /</td>\n",
       "      <td>A framework for building native applications u...</td>\n",
       "      <td>C++</td>\n",
       "      <td>280</td>\n",
       "    </tr>\n",
       "    <tr>\n",
       "      <th>18</th>\n",
       "      <td>facebook /</td>\n",
       "      <td>The OpenTelemetry C++ Client</td>\n",
       "      <td>JavaScript</td>\n",
       "      <td>23,730</td>\n",
       "    </tr>\n",
       "    <tr>\n",
       "      <th>19</th>\n",
       "      <td>open-telemetry /</td>\n",
       "      <td>OpenAI 接口管理 &amp; 分发系统，支持 Azure、Anthropic Claude、G...</td>\n",
       "      <td>Go</td>\n",
       "      <td>359</td>\n",
       "    </tr>\n",
       "  </tbody>\n",
       "</table>\n",
       "</div>"
      ],
      "text/plain": [
       "                      Title  \\\n",
       "0                  google /   \n",
       "1                  google /   \n",
       "2               SoraWebui /   \n",
       "3          zed-industries /   \n",
       "4                facebook /   \n",
       "5             all-in-aigc /   \n",
       "6               jackfrued /   \n",
       "7                 levihsu /   \n",
       "8           FujiwaraChoki /   \n",
       "9                mtkarimi /   \n",
       "10              localsend /   \n",
       "11                xiaolai /   \n",
       "12        google-deepmind /   \n",
       "13               zhayujie /   \n",
       "14                lobehub /   \n",
       "15         soufianetahiri /   \n",
       "16              weijunext /   \n",
       "17  keep-starknet-strange /   \n",
       "18               facebook /   \n",
       "19         open-telemetry /   \n",
       "\n",
       "                                          Description     Language_Used  \\\n",
       "0   The official PyTorch implementation of Google'...            Python   \n",
       "1   lightweight, standalone C++ inference engine f...               C++   \n",
       "2   SoraWebui is an open-source Sora web client, e...        TypeScript   \n",
       "3   Code at the speed of thought – Zed is a high-p...              Rust   \n",
       "4   React Strict DOM (RSD) is a subset of React DO...        JavaScript   \n",
       "5                  Sora AI Video Generator by Sora.FM        TypeScript   \n",
       "6                                 Python - 100天从新手到大师            Python   \n",
       "7   Official implementation of OOTDiffusion: Outfi...            Python   \n",
       "8        Automate the process of making money online.            Python   \n",
       "9   An open-source cross-platform alternative to A...            Python   \n",
       "10                                            人人都能用英语              Dart   \n",
       "11             Open weights LLM from Google DeepMind.  Jupyter Notebook   \n",
       "12  基于大模型搭建的微信聊天机器人，同时支持微信、企业微信、公众号、飞书、钉钉接入，可选择GPT...  Jupyter Notebook   \n",
       "13  🤯 Lobe Chat - an open-source, modern-design Ch...            Python   \n",
       "14                    I-SOON/Anxun leak related stuff        TypeScript   \n",
       "15                                    收录独立开发者出海技术栈和工具            Python   \n",
       "16  A curated list of awesome StarkNet resources, ...               C++   \n",
       "17  A framework for building native applications u...               C++   \n",
       "18                       The OpenTelemetry C++ Client        JavaScript   \n",
       "19  OpenAI 接口管理 & 分发系统，支持 Azure、Anthropic Claude、G...                Go   \n",
       "\n",
       "   Contributors_Count  \n",
       "0                 267  \n",
       "1                 164  \n",
       "2                 228  \n",
       "3                 976  \n",
       "4                  94  \n",
       "5                 152  \n",
       "6              50,797  \n",
       "7                 262  \n",
       "8                 137  \n",
       "9                  92  \n",
       "10              1,416  \n",
       "11              2,982  \n",
       "12                121  \n",
       "13              6,161  \n",
       "14              3,976  \n",
       "15                 97  \n",
       "16                159  \n",
       "17                280  \n",
       "18             23,730  \n",
       "19                359  "
      ]
     },
     "execution_count": 21,
     "metadata": {},
     "output_type": "execute_result"
    }
   ],
   "source": [
    "GitHub=pd.DataFrame({'Title':Title[:20],'Description':Description[:20],'Language_Used':Language_Used[:20],'Contributors_Count':Contributors_Count[:20]})\n",
    "GitHub"
   ]
  },
  {
   "cell_type": "markdown",
   "id": "767c018e",
   "metadata": {},
   "source": [
    "# 5. Scrape the details of top 100 songs on billiboard.com. Url = https:/www.billboard.com/ You have to find the following details: A) Song name B) Artist name C) Last week rank D) Peak rank E) Weeks on boardNote: - From the home page you have to click on the charts option then hot 100-page link through code."
   ]
  },
  {
   "cell_type": "code",
   "execution_count": 2,
   "id": "5553b8b4",
   "metadata": {},
   "outputs": [],
   "source": [
    "driver=webdriver.Chrome()\n",
    "driver.get('https:/www.billboard.com/')"
   ]
  },
  {
   "cell_type": "code",
   "execution_count": 3,
   "id": "d4831acd",
   "metadata": {},
   "outputs": [],
   "source": [
    "charts = driver.find_element(By.XPATH,'//*[@id=\"mega-menu-item-charts\"]//a')       # Locating page foe top videos by xpath\n",
    "charts.click()"
   ]
  },
  {
   "cell_type": "code",
   "execution_count": 4,
   "id": "9079205b",
   "metadata": {},
   "outputs": [],
   "source": [
    "view=driver.find_element(By.XPATH,'/html/body/div[3]/main/div[2]/div[1]/div[1]/div/div/div[3]/a')\n",
    "view.click()"
   ]
  },
  {
   "cell_type": "code",
   "execution_count": 5,
   "id": "94926372",
   "metadata": {},
   "outputs": [],
   "source": [
    "Rank=[]\n",
    "Song_Name=[]\n",
    "Artist_Name=[]\n",
    "Last_Week_Rank=[]\n",
    "Peak_Rank=[]\n",
    "Weeks_On_Board=[]"
   ]
  },
  {
   "cell_type": "code",
   "execution_count": 6,
   "id": "345ba12d",
   "metadata": {},
   "outputs": [
    {
     "name": "stdout",
     "output_type": "stream",
     "text": [
      "['1', '2', '3', '4', '5', '6', '7', '8', '9', '10', '11', '12', '13', '14', '15', '16', '17', '18', '19', '20', '21', '22', '23', '24', '25', '26', '27', '28', '29', '30', '31', '32', '33', '34', '35', '36', '37', '38', '39', '40', '41', '42', '43', '44', '45', '46', '47', '48', '49', '50', '51', '52', '53', '54', '55', '56', '57', '58', '59', '60', '61', '62', '63', '64', '65', '66', '67', '68', '69', '70', '71', '72', '73', '74', '75', '76', '77', '78', '79', '80', '81', '82', '83', '84', '85', '86', '87', '88', '89', '90', '91', '92', '93', '94', '95', '96', '97', '98', '99', '100']\n"
     ]
    },
    {
     "data": {
      "text/plain": [
       "(100, None)"
      ]
     },
     "execution_count": 6,
     "metadata": {},
     "output_type": "execute_result"
    }
   ],
   "source": [
    "r=driver.find_elements(By.XPATH,'//span[@class=\"c-label  a-font-primary-bold-l u-font-size-32@tablet u-letter-spacing-0080@tablet\"]')\n",
    "for i in r:\n",
    "    if i.text is None:\n",
    "        Rank.append('-')\n",
    "    else:\n",
    "        Rank.append(i.text)\n",
    "        \n",
    "len(Rank),print(Rank)"
   ]
  },
  {
   "cell_type": "code",
   "execution_count": 7,
   "id": "9954fd80",
   "metadata": {},
   "outputs": [
    {
     "name": "stdout",
     "output_type": "stream",
     "text": [
      "['Lovin On Me', \"Texas Hold 'Em\", 'Carnival', 'Beautiful Things', 'Lose Control', 'Cruel Summer', 'Snooze', 'I Remember Everything', 'Greedy', 'Stick Season', 'Fast Car', 'Agora Hills', 'Water', 'Last Night', 'Redrum', \"Thinkin' Bout Me\", 'Flowers', \"Is It Over Now? (Taylor's Version) [From The Vault]\", 'Paint The Town Red', 'Yeah!', 'Never Lose Me', 'La Diabla', 'Fuk Sumn', 'Pretty Little Poison', 'Houdini', 'Back To Me', 'What Was I Made For?', 'Forever', 'Where The Wild Things Are', 'Talking', 'Yes, And?', 'Made For Me', 'Burn', 'Vultures', 'The Painter', 'Good Good', 'Selfish', '16 Carriages', 'Stars', 'Everybody', 'Rich Baby Daddy', 'Feather', 'Vampire', 'On My Mama', 'Wild Ones', 'Dance The Night', 'Save Me', 'Hiss', 'Exes', 'Need A Favor', 'Truck Bed', 'Do It', 'Paid', 'Surround Sound', 'Keys To My Life', 'World On Fire', 'First Person Shooter', 'La Victima', 'Get In With Me', 'Burn It Down', 'Standing Next To You', 'Think U The Shit (Fart)', 'Praise Jah In The Moonlight', 'Paperwork', 'Beg Forgiveness', 'Man Made A Bar', 'Hoodrat', 'One Call', 'Igual Que Un Angel', 'Spin You Around (1/24)', 'FTCU', 'One Of The Girls', 'Murder On The Dancefloor', 'You Broke My Heart', 'Northern Attitude', 'FE!N', '23', 'Bandit', 'Problematic', 'Nee-nah', 'Act II: Date @ 8', 'I Can Feel It', \"Mamaw's House\", 'Soak City', 'Harley Quinn', \"You're Gonna Go Far\", 'Bellakeo', 'IDGAF', 'Yeah Glo!', \"Different 'Round Here\", 'She Calls Me Back', \"We Don't Fight Anymore\", \"Good (Don't Die)\", 'King', 'Coal', 'Mmhmm', 'Monaco', 'Prove It', 'Perro Negro', 'Sunday Service']\n"
     ]
    },
    {
     "data": {
      "text/plain": [
       "(100, None)"
      ]
     },
     "execution_count": 7,
     "metadata": {},
     "output_type": "execute_result"
    }
   ],
   "source": [
    "sn=driver.find_elements(By.XPATH,'//li[@class=\"lrv-u-width-100p\"]//ul/li/h3')\n",
    "for i in sn:\n",
    "    if i.text is None:\n",
    "        Song_Name.append('-')\n",
    "    else:\n",
    "        Song_Name.append(i.text)\n",
    "\n",
    "len(Song_Name),print(Song_Name)"
   ]
  },
  {
   "cell_type": "code",
   "execution_count": 8,
   "id": "da8e4efc",
   "metadata": {},
   "outputs": [
    {
     "name": "stdout",
     "output_type": "stream",
     "text": [
      "['Jack Harlow', 'Beyonce', '¥$: Kanye West & Ty Dolla $ign', 'Benson Boone', 'Teddy Swims', 'Taylor Swift', 'SZA', 'Zach Bryan Featuring Kacey Musgraves', 'Tate McRae', 'Noah Kahan', 'Luke Combs', 'Doja Cat', 'Tyla', 'Morgan Wallen', '21 Savage', 'Morgan Wallen', 'Miley Cyrus', 'Taylor Swift', 'Doja Cat', 'Usher Featuring Lil Jon & Ludacris', 'Flo Milli', 'Xavi', '¥$: Kanye West & Ty Dolla $ign', 'Warren Zeiders', 'Dua Lipa', '¥$: Kanye West & Ty Dolla $ign', 'Billie Eilish', 'Noah Kahan', 'Luke Combs', '¥$: Kanye West & Ty Dolla $ign Featuring North West', 'Ariana Grande', 'Muni Long', '¥$: Kanye West & Ty Dolla $ign', '¥$: Kanye West & Ty Dolla $ign Featuring Lil Durk & Bump J', 'Cody Johnson', 'Usher, Summer Walker & 21 Savage', 'Justin Timberlake', 'Beyonce', '¥$: Kanye West & Ty Dolla $ign', 'Nicki Minaj Featuring Lil Uzi Vert', 'Drake Featuring Sexyy Red & SZA', 'Sabrina Carpenter', 'Olivia Rodrigo', 'Victoria Monet', 'Jessie Murph & Jelly Roll', 'Dua Lipa', 'Jelly Roll With Lainey Wilson', 'Megan Thee Stallion', 'Tate McRae', 'Jelly Roll', 'HARDY', '¥$: Kanye West & Ty Dolla $ign', '¥$: Kanye West & Ty Dolla $ign', 'JID Featuring 21 Savage & Baby Tate', '¥$: Kanye West & Ty Dolla $ign', 'Nate Smith', 'Drake Featuring J. Cole', 'Xavi', 'BossMan Dlow', 'Parker McCollum', 'Jung Kook', 'Ice Spice', 'YG Marley', '¥$: Kanye West & Ty Dolla $ign', '¥$: Kanye West & Ty Dolla $ign', 'Morgan Wallen Featuring Eric Church', '¥$: Kanye West & Ty Dolla $ign', 'Rich Amiri', 'Kali Uchis & Peso Pluma', 'Morgan Wallen', 'Nicki Minaj', 'The Weeknd, Jennie & Lily Rose Depp', 'Sophie Ellis-Bextor', 'Drake', 'Noah Kahan With Hozier', 'Travis Scott Featuring Playboi Carti', 'Chayce Beckham', 'Don Toliver', '¥$: Kanye West & Ty Dolla $ign', '21 Savage, Travis Scott & Metro Boomin', '4Batz', 'Kane Brown', 'Thomas Rhett Featuring Morgan Wallen', '310babii', 'Fuerza Regida & Marshmello', 'Noah Kahan', 'Peso Pluma & Anitta', 'Drake Featuring Yeat', 'GloRilla', 'Riley Green Featuring Luke Combs', 'Noah Kahan With Kacey Musgraves', 'Carly Pearce Featuring Chris Stapleton', '¥$: Kanye West & Ty Dolla $ign', '¥$: Kanye West & Ty Dolla $ign', 'Dylan Gossett', 'BigXthaPlug', 'Bad Bunny', '21 Savage & Summer Walker', 'Bad Bunny & Feid', 'Latto']\n"
     ]
    },
    {
     "data": {
      "text/plain": [
       "(100, None)"
      ]
     },
     "execution_count": 8,
     "metadata": {},
     "output_type": "execute_result"
    }
   ],
   "source": [
    "an=driver.find_elements(By.XPATH,'//div[@class=\"o-chart-results-list-row-container\"]//ul[1]/li[4]/ul[1]/li[1]/span')\n",
    "for i in an:\n",
    "    if i.text is None:\n",
    "        Artist_Name.append('-')\n",
    "    else:\n",
    "        Artist_Name.append(i.text)\n",
    "        \n",
    "len(Artist_Name),print(Artist_Name)"
   ]
  },
  {
   "cell_type": "code",
   "execution_count": 9,
   "id": "e379623c",
   "metadata": {},
   "outputs": [
    {
     "name": "stdout",
     "output_type": "stream",
     "text": [
      "['1', '-', '-', '3', '2', '4', '5', '6', '7', '11', '8', '9', '12', '15', '14', '16', '10', '18', '17', '-', '19', '25', '-', '24', '22', '-', '20', '-', '26', '-', '21', '28', '-', '-', '30', '45', '23', '-', '-', '27', '32', '36', '29', '33', '35', '37', '40', '13', '34', '39', '46', '-', '-', '48', '-', '44', '47', '56', '68', '55', '81', '52', '60', '-', '-', '63', '-', '64', '53', '51', '54', '57', '59', '65', '97', '69', '74', '38', '-', '58', '61', '73', '78', '76', '67', '-', '70', '72', '-', '66', '-', '79', '-', '-', '86', '83', '77', '75', '82', '-']\n"
     ]
    },
    {
     "data": {
      "text/plain": [
       "(100, None)"
      ]
     },
     "execution_count": 9,
     "metadata": {},
     "output_type": "execute_result"
    }
   ],
   "source": [
    "lw=driver.find_elements(By.XPATH,'//div[@class=\"o-chart-results-list-row-container\"]//ul[1]/li[4]/ul/li[4]/span')\n",
    "for i in lw:\n",
    "    if i.text is None:\n",
    "        Last_Week_Rank.append('-')\n",
    "    else:\n",
    "        Last_Week_Rank.append(i.text)\n",
    "        \n",
    "len(Last_Week_Rank),print(Last_Week_Rank)"
   ]
  },
  {
   "cell_type": "code",
   "execution_count": 11,
   "id": "d5f48e6f",
   "metadata": {},
   "outputs": [
    {
     "name": "stdout",
     "output_type": "stream",
     "text": [
      "['1', '2', '3', '3', '2', '1', '2', '1', '3', '10', '2', '7', '7', '1', '5', '7', '1', '1', '1', '1', '18', '20', '23', '24', '11', '26', '14', '28', '26', '30', '1', '28', '33', '34', '30', '25', '19', '38', '39', '24', '11', '36', '1', '33', '35', '6', '19', '1', '34', '13', '36', '52', '53', '40', '55', '21', '1', '46', '59', '52', '5', '37', '60', '64', '65', '15', '67', '64', '22', '24', '15', '57', '51', '11', '37', '5', '64', '38', '79', '10', '59', '59', '55', '61', '40', '86', '53', '2', '89', '60', '76', '67', '93', '94', '86', '65', '5', '43', '20', '100']\n"
     ]
    },
    {
     "data": {
      "text/plain": [
       "(100, None)"
      ]
     },
     "execution_count": 11,
     "metadata": {},
     "output_type": "execute_result"
    }
   ],
   "source": [
    "pr=driver.find_elements(By.XPATH,'//div[@class=\"o-chart-results-list-row-container\"]//ul[1]/li[4]/ul/li[5]/span')\n",
    "for i in pr:\n",
    "    if i.text is None:\n",
    "        Peak_Rank.append('-')\n",
    "    else:\n",
    "        Peak_Rank.append(i.text)\n",
    "        \n",
    "len(Peak_Rank),print(Peak_Rank)"
   ]
  },
  {
   "cell_type": "code",
   "execution_count": 12,
   "id": "0bc3d484",
   "metadata": {},
   "outputs": [
    {
     "name": "stdout",
     "output_type": "stream",
     "text": [
      "['14', '1', '1', '4', '27', '41', '61', '25', '22', '20', '47', '21', '20', '55', '5', '50', '52', '16', '28', '46', '9', '9', '1', '23', '14', '1', '30', '1', '13', '1', '5', '5', '1', '1', '19', '27', '3', '1', '1', '10', '19', '11', '30', '22', '19', '33', '32', '3', '13', '44', '35', '1', '1', '14', '1', '16', '19', '9', '2', '17', '15', '3', '3', '1', '1', '21', '1', '3', '5', '3', '10', '8', '7', '13', '11', '16', '7', '2', '1', '5', '6', '7', '7', '9', '15', '1', '9', '19', '1', '11', '2', '9', '1', '1', '6', '8', '18', '5', '15', '1']\n"
     ]
    },
    {
     "data": {
      "text/plain": [
       "(100, None)"
      ]
     },
     "execution_count": 12,
     "metadata": {},
     "output_type": "execute_result"
    }
   ],
   "source": [
    "wb=driver.find_elements(By.XPATH,'//div[@class=\"o-chart-results-list-row-container\"]//ul[1]/li[4]/ul/li[6]/span')\n",
    "for i in wb:\n",
    "    if i.text is None:\n",
    "        Weeks_On_Board.append('-')\n",
    "    else:\n",
    "        Weeks_On_Board.append(i.text)\n",
    "        \n",
    "len(Weeks_On_Board),print(Weeks_On_Board)"
   ]
  },
  {
   "cell_type": "code",
   "execution_count": 13,
   "id": "51169938",
   "metadata": {
    "scrolled": false
   },
   "outputs": [
    {
     "data": {
      "text/html": [
       "<div>\n",
       "<style scoped>\n",
       "    .dataframe tbody tr th:only-of-type {\n",
       "        vertical-align: middle;\n",
       "    }\n",
       "\n",
       "    .dataframe tbody tr th {\n",
       "        vertical-align: top;\n",
       "    }\n",
       "\n",
       "    .dataframe thead th {\n",
       "        text-align: right;\n",
       "    }\n",
       "</style>\n",
       "<table border=\"1\" class=\"dataframe\">\n",
       "  <thead>\n",
       "    <tr style=\"text-align: right;\">\n",
       "      <th></th>\n",
       "      <th>Rank</th>\n",
       "      <th>Song_Name</th>\n",
       "      <th>Artist_Name</th>\n",
       "      <th>Last_Week_Rank</th>\n",
       "      <th>Peak_Rank</th>\n",
       "      <th>Weeks_On_Board</th>\n",
       "    </tr>\n",
       "  </thead>\n",
       "  <tbody>\n",
       "    <tr>\n",
       "      <th>0</th>\n",
       "      <td>1</td>\n",
       "      <td>Lovin On Me</td>\n",
       "      <td>Jack Harlow</td>\n",
       "      <td>1</td>\n",
       "      <td>1</td>\n",
       "      <td>14</td>\n",
       "    </tr>\n",
       "    <tr>\n",
       "      <th>1</th>\n",
       "      <td>2</td>\n",
       "      <td>Texas Hold 'Em</td>\n",
       "      <td>Beyonce</td>\n",
       "      <td>-</td>\n",
       "      <td>2</td>\n",
       "      <td>1</td>\n",
       "    </tr>\n",
       "    <tr>\n",
       "      <th>2</th>\n",
       "      <td>3</td>\n",
       "      <td>Carnival</td>\n",
       "      <td>¥$: Kanye West &amp; Ty Dolla $ign</td>\n",
       "      <td>-</td>\n",
       "      <td>3</td>\n",
       "      <td>1</td>\n",
       "    </tr>\n",
       "    <tr>\n",
       "      <th>3</th>\n",
       "      <td>4</td>\n",
       "      <td>Beautiful Things</td>\n",
       "      <td>Benson Boone</td>\n",
       "      <td>3</td>\n",
       "      <td>3</td>\n",
       "      <td>4</td>\n",
       "    </tr>\n",
       "    <tr>\n",
       "      <th>4</th>\n",
       "      <td>5</td>\n",
       "      <td>Lose Control</td>\n",
       "      <td>Teddy Swims</td>\n",
       "      <td>2</td>\n",
       "      <td>2</td>\n",
       "      <td>27</td>\n",
       "    </tr>\n",
       "    <tr>\n",
       "      <th>...</th>\n",
       "      <td>...</td>\n",
       "      <td>...</td>\n",
       "      <td>...</td>\n",
       "      <td>...</td>\n",
       "      <td>...</td>\n",
       "      <td>...</td>\n",
       "    </tr>\n",
       "    <tr>\n",
       "      <th>95</th>\n",
       "      <td>96</td>\n",
       "      <td>Mmhmm</td>\n",
       "      <td>BigXthaPlug</td>\n",
       "      <td>83</td>\n",
       "      <td>65</td>\n",
       "      <td>8</td>\n",
       "    </tr>\n",
       "    <tr>\n",
       "      <th>96</th>\n",
       "      <td>97</td>\n",
       "      <td>Monaco</td>\n",
       "      <td>Bad Bunny</td>\n",
       "      <td>77</td>\n",
       "      <td>5</td>\n",
       "      <td>18</td>\n",
       "    </tr>\n",
       "    <tr>\n",
       "      <th>97</th>\n",
       "      <td>98</td>\n",
       "      <td>Prove It</td>\n",
       "      <td>21 Savage &amp; Summer Walker</td>\n",
       "      <td>75</td>\n",
       "      <td>43</td>\n",
       "      <td>5</td>\n",
       "    </tr>\n",
       "    <tr>\n",
       "      <th>98</th>\n",
       "      <td>99</td>\n",
       "      <td>Perro Negro</td>\n",
       "      <td>Bad Bunny &amp; Feid</td>\n",
       "      <td>82</td>\n",
       "      <td>20</td>\n",
       "      <td>15</td>\n",
       "    </tr>\n",
       "    <tr>\n",
       "      <th>99</th>\n",
       "      <td>100</td>\n",
       "      <td>Sunday Service</td>\n",
       "      <td>Latto</td>\n",
       "      <td>-</td>\n",
       "      <td>100</td>\n",
       "      <td>1</td>\n",
       "    </tr>\n",
       "  </tbody>\n",
       "</table>\n",
       "<p>100 rows × 6 columns</p>\n",
       "</div>"
      ],
      "text/plain": [
       "   Rank         Song_Name                     Artist_Name Last_Week_Rank  \\\n",
       "0     1       Lovin On Me                     Jack Harlow              1   \n",
       "1     2    Texas Hold 'Em                         Beyonce              -   \n",
       "2     3          Carnival  ¥$: Kanye West & Ty Dolla $ign              -   \n",
       "3     4  Beautiful Things                    Benson Boone              3   \n",
       "4     5      Lose Control                     Teddy Swims              2   \n",
       "..  ...               ...                             ...            ...   \n",
       "95   96             Mmhmm                     BigXthaPlug             83   \n",
       "96   97            Monaco                       Bad Bunny             77   \n",
       "97   98          Prove It       21 Savage & Summer Walker             75   \n",
       "98   99       Perro Negro                Bad Bunny & Feid             82   \n",
       "99  100    Sunday Service                           Latto              -   \n",
       "\n",
       "   Peak_Rank Weeks_On_Board  \n",
       "0          1             14  \n",
       "1          2              1  \n",
       "2          3              1  \n",
       "3          3              4  \n",
       "4          2             27  \n",
       "..       ...            ...  \n",
       "95        65              8  \n",
       "96         5             18  \n",
       "97        43              5  \n",
       "98        20             15  \n",
       "99       100              1  \n",
       "\n",
       "[100 rows x 6 columns]"
      ]
     },
     "execution_count": 13,
     "metadata": {},
     "output_type": "execute_result"
    }
   ],
   "source": [
    "Songs=pd.DataFrame({'Rank':Rank,'Song_Name':Song_Name,'Artist_Name':Artist_Name,'Last_Week_Rank':Last_Week_Rank,'Peak_Rank':Peak_Rank,'Weeks_On_Board':Weeks_On_Board})\n",
    "Songs"
   ]
  },
  {
   "cell_type": "markdown",
   "id": "b6f3c2d4",
   "metadata": {},
   "source": [
    "# 6. Scrape the details of Highest selling novels. A) Book name B) Author name C) Volumes sold D) Publisher E) Genre Url - https://www.theguardian.com/news/datablog/2012/aug/09/best-selling-books-all-time-fifty-shades-grey-compare"
   ]
  },
  {
   "cell_type": "code",
   "execution_count": 15,
   "id": "2746b7ff",
   "metadata": {},
   "outputs": [],
   "source": [
    "driver=webdriver.Chrome()\n",
    "driver.get('https://www.theguardian.com/news/datablog/2012/aug/09/best-selling-books-all-time-fifty-shades-grey-compare')"
   ]
  },
  {
   "cell_type": "code",
   "execution_count": 18,
   "id": "d5e6ced3",
   "metadata": {},
   "outputs": [],
   "source": [
    "Rank=[]\n",
    "Book_Name=[]\n",
    "Author_Name=[]\n",
    "Volumes_Sold=[]\n",
    "Publisher=[]\n",
    "Genre=[]"
   ]
  },
  {
   "cell_type": "code",
   "execution_count": 19,
   "id": "ba3c7605",
   "metadata": {},
   "outputs": [
    {
     "name": "stdout",
     "output_type": "stream",
     "text": [
      "['1', '2', '3', '4', '5', '6', '7', '8', '9', '10', '11', '12', '13', '14', '15', '16', '17', '18', '19', '20', '21', '22', '23', '24', '25', '26', '27', '28', '29', '30', '31', '32', '33', '34', '35', '36', '37', '38', '39', '40', '41', '42', '43', '44', '45', '46', '47', '48', '49', '50', '51', '52', '53', '54', '55', '56', '57', '58', '59', '60', '61', '62', '63', '64', '65', '66', '67', '68', '69', '70', '71', '72', '73', '74', '75', '76', '77', '78', '79', '80', '81', '82', '83', '84', '85', '86', '87', '88', '89', '90', '91', '92', '93', '94', '95', '96', '97', '98', '99', '100']\n"
     ]
    },
    {
     "data": {
      "text/plain": [
       "(100, None)"
      ]
     },
     "execution_count": 19,
     "metadata": {},
     "output_type": "execute_result"
    }
   ],
   "source": [
    "rk=driver.find_elements(By.XPATH,'//div[@class=\"embed block\"]//table/tbody/tr/td[1]')\n",
    "for i in rk:\n",
    "    if i.text is None:\n",
    "        Rank.append('-')\n",
    "    else:\n",
    "        Rank.append(i.text)\n",
    "len(Rank),print(Rank)"
   ]
  },
  {
   "cell_type": "code",
   "execution_count": 20,
   "id": "545abeda",
   "metadata": {},
   "outputs": [
    {
     "name": "stdout",
     "output_type": "stream",
     "text": [
      "['Da Vinci Code,The', 'Harry Potter and the Deathly Hallows', \"Harry Potter and the Philosopher's Stone\", 'Harry Potter and the Order of the Phoenix', 'Fifty Shades of Grey', 'Harry Potter and the Goblet of Fire', 'Harry Potter and the Chamber of Secrets', 'Harry Potter and the Prisoner of Azkaban', 'Angels and Demons', \"Harry Potter and the Half-blood Prince:Children's Edition\", 'Fifty Shades Darker', 'Twilight', 'Girl with the Dragon Tattoo,The:Millennium Trilogy', 'Fifty Shades Freed', 'Lost Symbol,The', 'New Moon', 'Deception Point', 'Eclipse', 'Lovely Bones,The', 'Curious Incident of the Dog in the Night-time,The', 'Digital Fortress', 'Short History of Nearly Everything,A', 'Girl Who Played with Fire,The:Millennium Trilogy', 'Breaking Dawn', 'Very Hungry Caterpillar,The:The Very Hungry Caterpillar', 'Gruffalo,The', \"Jamie's 30-Minute Meals\", 'Kite Runner,The', 'One Day', 'Thousand Splendid Suns,A', \"Girl Who Kicked the Hornets' Nest,The:Millennium Trilogy\", \"Time Traveler's Wife,The\", 'Atonement', \"Bridget Jones's Diary:A Novel\", 'World According to Clarkson,The', \"Captain Corelli's Mandolin\", 'Sound of Laughter,The', 'Life of Pi', 'Billy Connolly', 'Child Called It,A', \"Gruffalo's Child,The\", \"Angela's Ashes:A Memoir of a Childhood\", 'Birdsong', 'Northern Lights:His Dark Materials S.', 'Labyrinth', 'Harry Potter and the Half-blood Prince', 'Help,The', 'Man and Boy', 'Memoirs of a Geisha', \"No.1 Ladies' Detective Agency,The:No.1 Ladies' Detective Agency S.\", 'Island,The', 'PS, I Love You', 'You are What You Eat:The Plan That Will Change Your Life', 'Shadow of the Wind,The', 'Tales of Beedle the Bard,The', 'Broker,The', \"Dr. Atkins' New Diet Revolution:The No-hunger, Luxurious Weight Loss P\", 'Subtle Knife,The:His Dark Materials S.', 'Eats, Shoots and Leaves:The Zero Tolerance Approach to Punctuation', \"Delia's How to Cook:(Bk.1)\", 'Chocolat', 'Boy in the Striped Pyjamas,The', \"My Sister's Keeper\", 'Amber Spyglass,The:His Dark Materials S.', 'To Kill a Mockingbird', 'Men are from Mars, Women are from Venus:A Practical Guide for Improvin', 'Dear Fatty', 'Short History of Tractors in Ukrainian,A', 'Hannibal', 'Lord of the Rings,The', 'Stupid White Men:...and Other Sorry Excuses for the State of the Natio', 'Interpretation of Murder,The', 'Sharon Osbourne Extreme:My Autobiography', 'Alchemist,The:A Fable About Following Your Dream', \"At My Mother's Knee ...:and Other Low Joints\", 'Notes from a Small Island', 'Return of the Naked Chef,The', 'Bridget Jones: The Edge of Reason', \"Jamie's Italy\", 'I Can Make You Thin', 'Down Under', 'Summons,The', 'Small Island', 'Nigella Express', 'Brick Lane', \"Memory Keeper's Daughter,The\", 'Room on the Broom', 'About a Boy', 'My Booky Wook', 'God Delusion,The', '\"Beano\" Annual,The', 'White Teeth', 'House at Riverton,The', 'Book Thief,The', 'Nights of Rain and Stars', 'Ghost,The', 'Happy Days with the Naked Chef', 'Hunger Games,The:Hunger Games Trilogy', \"Lost Boy,The:A Foster Child's Search for the Love of a Family\", \"Jamie's Ministry of Food:Anyone Can Learn to Cook in 24 Hours\"]\n"
     ]
    },
    {
     "data": {
      "text/plain": [
       "(100, None)"
      ]
     },
     "execution_count": 20,
     "metadata": {},
     "output_type": "execute_result"
    }
   ],
   "source": [
    "bn=driver.find_elements(By.XPATH,'//div[@class=\"embed block\"]//table/tbody/tr/td[2]')\n",
    "for i in bn:\n",
    "    if i.text is None:\n",
    "        Book_Name.append('-')\n",
    "    else:\n",
    "        Book_Name.append(i.text)\n",
    "len(Book_Name),print(Book_Name)"
   ]
  },
  {
   "cell_type": "code",
   "execution_count": 23,
   "id": "4fd9d385",
   "metadata": {},
   "outputs": [
    {
     "name": "stdout",
     "output_type": "stream",
     "text": [
      "['Brown, Dan', 'Rowling, J.K.', 'Rowling, J.K.', 'Rowling, J.K.', 'James, E. L.', 'Rowling, J.K.', 'Rowling, J.K.', 'Rowling, J.K.', 'Brown, Dan', 'Rowling, J.K.', 'James, E. L.', 'Meyer, Stephenie', 'Larsson, Stieg', 'James, E. L.', 'Brown, Dan', 'Meyer, Stephenie', 'Brown, Dan', 'Meyer, Stephenie', 'Sebold, Alice', 'Haddon, Mark', 'Brown, Dan', 'Bryson, Bill', 'Larsson, Stieg', 'Meyer, Stephenie', 'Carle, Eric', 'Donaldson, Julia', 'Oliver, Jamie', 'Hosseini, Khaled', 'Nicholls, David', 'Hosseini, Khaled', 'Larsson, Stieg', 'Niffenegger, Audrey', 'McEwan, Ian', 'Fielding, Helen', 'Clarkson, Jeremy', 'Bernieres, Louis de', 'Kay, Peter', 'Martel, Yann', 'Stephenson, Pamela', 'Pelzer, Dave', 'Donaldson, Julia', 'McCourt, Frank', 'Faulks, Sebastian', 'Pullman, Philip', 'Mosse, Kate', 'Rowling, J.K.', 'Stockett, Kathryn', 'Parsons, Tony', 'Golden, Arthur', 'McCall Smith, Alexander', 'Hislop, Victoria', 'Ahern, Cecelia', 'McKeith, Gillian', 'Zafon, Carlos Ruiz', 'Rowling, J.K.', 'Grisham, John', 'Atkins, Robert C.', 'Pullman, Philip', 'Truss, Lynne', 'Smith, Delia', 'Harris, Joanne', 'Boyne, John', 'Picoult, Jodi', 'Pullman, Philip', 'Lee, Harper', 'Gray, John', 'French, Dawn', 'Lewycka, Marina', 'Harris, Thomas', 'Tolkien, J. R. R.', 'Moore, Michael', 'Rubenfeld, Jed', 'Osbourne, Sharon', 'Coelho, Paulo', \"O'Grady, Paul\", 'Bryson, Bill', 'Oliver, Jamie', 'Fielding, Helen', 'Oliver, Jamie', 'McKenna, Paul', 'Bryson, Bill', 'Grisham, John', 'Levy, Andrea', 'Lawson, Nigella', 'Ali, Monica', 'Edwards, Kim', 'Donaldson, Julia', 'Hornby, Nick', 'Brand, Russell', 'Dawkins, Richard', '0', 'Smith, Zadie', 'Morton, Kate', 'Zusak, Markus', 'Binchy, Maeve', 'Harris, Robert', 'Oliver, Jamie', 'Collins, Suzanne', 'Pelzer, Dave', 'Oliver, Jamie']\n"
     ]
    },
    {
     "data": {
      "text/plain": [
       "(100, None)"
      ]
     },
     "execution_count": 23,
     "metadata": {},
     "output_type": "execute_result"
    }
   ],
   "source": [
    "an=driver.find_elements(By.XPATH,'//div[@class=\"embed block\"]//table/tbody/tr/td[3]')\n",
    "for i in an:\n",
    "    if i.text is None:\n",
    "        Author_Name.append('-')\n",
    "    else:\n",
    "        Author_Name.append(i.text)\n",
    "len(Author_Name),print(Author_Name)"
   ]
  },
  {
   "cell_type": "code",
   "execution_count": 24,
   "id": "f8371094",
   "metadata": {},
   "outputs": [
    {
     "name": "stdout",
     "output_type": "stream",
     "text": [
      "['5,094,805', '4,475,152', '4,200,654', '4,179,479', '3,758,936', '3,583,215', '3,484,047', '3,377,906', '3,193,946', '2,950,264', '2,479,784', '2,315,405', '2,233,570', '2,193,928', '2,183,031', '2,152,737', '2,062,145', '2,052,876', '2,005,598', '1,979,552', '1,928,900', '1,852,919', '1,814,784', '1,787,118', '1,783,535', '1,781,269', '1,743,266', '1,629,119', '1,616,068', '1,583,992', '1,555,135', '1,546,886', '1,539,428', '1,508,205', '1,489,403', '1,352,318', '1,310,207', '1,310,176', '1,231,957', '1,217,712', '1,208,711', '1,204,058', '1,184,967', '1,181,503', '1,181,093', '1,153,181', '1,132,336', '1,130,802', '1,126,337', '1,115,549', '1,108,328', '1,107,379', '1,104,403', '1,092,349', '1,090,847', '1,087,262', '1,054,196', '1,037,160', '1,023,688', '1,015,956', '1,009,873', '1,004,414', '1,003,780', '1,002,314', '998,213', '992,846', '986,753', '986,115', '970,509', '967,466', '963,353', '962,515', '959,496', '956,114', '945,640', '931,312', '925,425', '924,695', '906,968', '905,086', '890,847', '869,671', '869,659', '862,602', '856,540', '845,858', '842,535', '828,215', '820,563', '816,907', '816,585', '815,586', '814,370', '809,641', '808,900', '807,311', '794,201', '792,187', '791,507', '791,095']\n"
     ]
    },
    {
     "data": {
      "text/plain": [
       "(100, None)"
      ]
     },
     "execution_count": 24,
     "metadata": {},
     "output_type": "execute_result"
    }
   ],
   "source": [
    "vs=driver.find_elements(By.XPATH,'//div[@class=\"embed block\"]//table/tbody/tr/td[4]')\n",
    "for i in vs:\n",
    "    if i.text is None:\n",
    "        Volumes_Sold.append('-')\n",
    "    else:\n",
    "        Volumes_Sold.append(i.text)\n",
    "len(Volumes_Sold),print(Volumes_Sold)"
   ]
  },
  {
   "cell_type": "code",
   "execution_count": 25,
   "id": "b021a440",
   "metadata": {},
   "outputs": [
    {
     "name": "stdout",
     "output_type": "stream",
     "text": [
      "['Transworld', 'Bloomsbury', 'Bloomsbury', 'Bloomsbury', 'Random House', 'Bloomsbury', 'Bloomsbury', 'Bloomsbury', 'Transworld', 'Bloomsbury', 'Random House', 'Little, Brown Book', 'Quercus', 'Random House', 'Transworld', 'Little, Brown Book', 'Transworld', 'Little, Brown Book', 'Pan Macmillan', 'Random House', 'Transworld', 'Transworld', 'Quercus', 'Little, Brown Book', 'Penguin', 'Pan Macmillan', 'Penguin', 'Bloomsbury', 'Hodder & Stoughton', 'Bloomsbury', 'Quercus', 'Random House', 'Random House', 'Pan Macmillan', 'Penguin', 'Random House', 'Random House', 'Canongate', 'HarperCollins', 'Orion', 'Pan Macmillan', 'HarperCollins', 'Random House', 'Scholastic Ltd.', 'Orion', 'Bloomsbury', 'Penguin', 'HarperCollins', 'Random House', 'Little, Brown Book', 'Headline', 'HarperCollins', 'Penguin', 'Orion', 'Bloomsbury', 'Random House', 'Random House', 'Scholastic Ltd.', 'Profile Books Group', 'Random House', 'Transworld', 'Random House Childrens Books G', 'Hodder & Stoughton', 'Scholastic Ltd.', 'Random House', 'HarperCollins', 'Random House', 'Penguin', 'Random House', 'HarperCollins', 'Penguin', 'Headline', 'Little, Brown Book', 'HarperCollins', 'Transworld', 'Transworld', 'Penguin', 'Pan Macmillan', 'Penguin', 'Transworld', 'Transworld', 'Random House', 'Headline', 'Random House', 'Transworld', 'Penguin', 'Pan Macmillan', 'Penguin', 'Hodder & Stoughton', 'Transworld', 'D.C. Thomson', 'Penguin', 'Pan Macmillan', 'Transworld', 'Orion', 'Random House', 'Penguin', 'Scholastic Ltd.', 'Orion', 'Penguin']\n"
     ]
    },
    {
     "data": {
      "text/plain": [
       "(100, None)"
      ]
     },
     "execution_count": 25,
     "metadata": {},
     "output_type": "execute_result"
    }
   ],
   "source": [
    "pb=driver.find_elements(By.XPATH,'//div[@class=\"embed block\"]//table/tbody/tr/td[5]')\n",
    "for i in pb:\n",
    "    if i.text is None:\n",
    "        Publisher.append('-')\n",
    "    else:\n",
    "        Publisher.append(i.text)\n",
    "len(Publisher),print(Publisher)"
   ]
  },
  {
   "cell_type": "code",
   "execution_count": 26,
   "id": "a468afdb",
   "metadata": {},
   "outputs": [
    {
     "name": "stdout",
     "output_type": "stream",
     "text": [
      "['Crime, Thriller & Adventure', \"Children's Fiction\", \"Children's Fiction\", \"Children's Fiction\", 'Romance & Sagas', \"Children's Fiction\", \"Children's Fiction\", \"Children's Fiction\", 'Crime, Thriller & Adventure', \"Children's Fiction\", 'Romance & Sagas', 'Young Adult Fiction', 'Crime, Thriller & Adventure', 'Romance & Sagas', 'Crime, Thriller & Adventure', 'Young Adult Fiction', 'Crime, Thriller & Adventure', 'Young Adult Fiction', 'General & Literary Fiction', 'General & Literary Fiction', 'Crime, Thriller & Adventure', 'Popular Science', 'Crime, Thriller & Adventure', 'Young Adult Fiction', 'Picture Books', 'Picture Books', 'Food & Drink: General', 'General & Literary Fiction', 'General & Literary Fiction', 'General & Literary Fiction', 'Crime, Thriller & Adventure', 'General & Literary Fiction', 'General & Literary Fiction', 'General & Literary Fiction', 'Humour: Collections & General', 'General & Literary Fiction', 'Autobiography: General', 'General & Literary Fiction', 'Biography: The Arts', 'Autobiography: General', 'Picture Books', 'Autobiography: General', 'General & Literary Fiction', 'Young Adult Fiction', 'General & Literary Fiction', 'Science Fiction & Fantasy', 'General & Literary Fiction', 'General & Literary Fiction', 'General & Literary Fiction', 'Crime, Thriller & Adventure', 'General & Literary Fiction', 'General & Literary Fiction', 'Fitness & Diet', 'General & Literary Fiction', \"Children's Fiction\", 'Crime, Thriller & Adventure', 'Fitness & Diet', 'Young Adult Fiction', 'Usage & Writing Guides', 'Food & Drink: General', 'General & Literary Fiction', 'Young Adult Fiction', 'General & Literary Fiction', 'Young Adult Fiction', 'General & Literary Fiction', 'Popular Culture & Media: General Interest', 'Autobiography: The Arts', 'General & Literary Fiction', 'Crime, Thriller & Adventure', 'Science Fiction & Fantasy', 'Current Affairs & Issues', 'Crime, Thriller & Adventure', 'Autobiography: The Arts', 'General & Literary Fiction', 'Autobiography: The Arts', 'Travel Writing', 'Food & Drink: General', 'General & Literary Fiction', 'National & Regional Cuisine', 'Fitness & Diet', 'Travel Writing', 'Crime, Thriller & Adventure', 'General & Literary Fiction', 'Food & Drink: General', 'General & Literary Fiction', 'General & Literary Fiction', 'Picture Books', 'General & Literary Fiction', 'Autobiography: The Arts', 'Popular Science', \"Children's Annuals\", 'General & Literary Fiction', 'General & Literary Fiction', 'General & Literary Fiction', 'General & Literary Fiction', 'General & Literary Fiction', 'Food & Drink: General', 'Young Adult Fiction', 'Biography: General', 'Food & Drink: General']\n"
     ]
    },
    {
     "data": {
      "text/plain": [
       "(100, None)"
      ]
     },
     "execution_count": 26,
     "metadata": {},
     "output_type": "execute_result"
    }
   ],
   "source": [
    "gr=driver.find_elements(By.XPATH,'//div[@class=\"embed block\"]//table/tbody/tr/td[6]')\n",
    "for i in gr:\n",
    "    if i.text is None:\n",
    "        Genre.append('-')\n",
    "    else:\n",
    "        Genre.append(i.text)\n",
    "len(Genre),print(Genre)"
   ]
  },
  {
   "cell_type": "code",
   "execution_count": 27,
   "id": "7d79db2d",
   "metadata": {},
   "outputs": [
    {
     "data": {
      "text/html": [
       "<div>\n",
       "<style scoped>\n",
       "    .dataframe tbody tr th:only-of-type {\n",
       "        vertical-align: middle;\n",
       "    }\n",
       "\n",
       "    .dataframe tbody tr th {\n",
       "        vertical-align: top;\n",
       "    }\n",
       "\n",
       "    .dataframe thead th {\n",
       "        text-align: right;\n",
       "    }\n",
       "</style>\n",
       "<table border=\"1\" class=\"dataframe\">\n",
       "  <thead>\n",
       "    <tr style=\"text-align: right;\">\n",
       "      <th></th>\n",
       "      <th>Rank</th>\n",
       "      <th>Book_Name</th>\n",
       "      <th>Author_Name</th>\n",
       "      <th>Volumes_Sold</th>\n",
       "      <th>Publisher</th>\n",
       "      <th>Genre</th>\n",
       "    </tr>\n",
       "  </thead>\n",
       "  <tbody>\n",
       "    <tr>\n",
       "      <th>0</th>\n",
       "      <td>1</td>\n",
       "      <td>Da Vinci Code,The</td>\n",
       "      <td>Brown, Dan</td>\n",
       "      <td>5,094,805</td>\n",
       "      <td>Transworld</td>\n",
       "      <td>Crime, Thriller &amp; Adventure</td>\n",
       "    </tr>\n",
       "    <tr>\n",
       "      <th>1</th>\n",
       "      <td>2</td>\n",
       "      <td>Harry Potter and the Deathly Hallows</td>\n",
       "      <td>Rowling, J.K.</td>\n",
       "      <td>4,475,152</td>\n",
       "      <td>Bloomsbury</td>\n",
       "      <td>Children's Fiction</td>\n",
       "    </tr>\n",
       "    <tr>\n",
       "      <th>2</th>\n",
       "      <td>3</td>\n",
       "      <td>Harry Potter and the Philosopher's Stone</td>\n",
       "      <td>Rowling, J.K.</td>\n",
       "      <td>4,200,654</td>\n",
       "      <td>Bloomsbury</td>\n",
       "      <td>Children's Fiction</td>\n",
       "    </tr>\n",
       "    <tr>\n",
       "      <th>3</th>\n",
       "      <td>4</td>\n",
       "      <td>Harry Potter and the Order of the Phoenix</td>\n",
       "      <td>Rowling, J.K.</td>\n",
       "      <td>4,179,479</td>\n",
       "      <td>Bloomsbury</td>\n",
       "      <td>Children's Fiction</td>\n",
       "    </tr>\n",
       "    <tr>\n",
       "      <th>4</th>\n",
       "      <td>5</td>\n",
       "      <td>Fifty Shades of Grey</td>\n",
       "      <td>James, E. L.</td>\n",
       "      <td>3,758,936</td>\n",
       "      <td>Random House</td>\n",
       "      <td>Romance &amp; Sagas</td>\n",
       "    </tr>\n",
       "    <tr>\n",
       "      <th>...</th>\n",
       "      <td>...</td>\n",
       "      <td>...</td>\n",
       "      <td>...</td>\n",
       "      <td>...</td>\n",
       "      <td>...</td>\n",
       "      <td>...</td>\n",
       "    </tr>\n",
       "    <tr>\n",
       "      <th>95</th>\n",
       "      <td>96</td>\n",
       "      <td>Ghost,The</td>\n",
       "      <td>Harris, Robert</td>\n",
       "      <td>807,311</td>\n",
       "      <td>Random House</td>\n",
       "      <td>General &amp; Literary Fiction</td>\n",
       "    </tr>\n",
       "    <tr>\n",
       "      <th>96</th>\n",
       "      <td>97</td>\n",
       "      <td>Happy Days with the Naked Chef</td>\n",
       "      <td>Oliver, Jamie</td>\n",
       "      <td>794,201</td>\n",
       "      <td>Penguin</td>\n",
       "      <td>Food &amp; Drink: General</td>\n",
       "    </tr>\n",
       "    <tr>\n",
       "      <th>97</th>\n",
       "      <td>98</td>\n",
       "      <td>Hunger Games,The:Hunger Games Trilogy</td>\n",
       "      <td>Collins, Suzanne</td>\n",
       "      <td>792,187</td>\n",
       "      <td>Scholastic Ltd.</td>\n",
       "      <td>Young Adult Fiction</td>\n",
       "    </tr>\n",
       "    <tr>\n",
       "      <th>98</th>\n",
       "      <td>99</td>\n",
       "      <td>Lost Boy,The:A Foster Child's Search for the L...</td>\n",
       "      <td>Pelzer, Dave</td>\n",
       "      <td>791,507</td>\n",
       "      <td>Orion</td>\n",
       "      <td>Biography: General</td>\n",
       "    </tr>\n",
       "    <tr>\n",
       "      <th>99</th>\n",
       "      <td>100</td>\n",
       "      <td>Jamie's Ministry of Food:Anyone Can Learn to C...</td>\n",
       "      <td>Oliver, Jamie</td>\n",
       "      <td>791,095</td>\n",
       "      <td>Penguin</td>\n",
       "      <td>Food &amp; Drink: General</td>\n",
       "    </tr>\n",
       "  </tbody>\n",
       "</table>\n",
       "<p>100 rows × 6 columns</p>\n",
       "</div>"
      ],
      "text/plain": [
       "   Rank                                          Book_Name       Author_Name  \\\n",
       "0     1                                  Da Vinci Code,The        Brown, Dan   \n",
       "1     2               Harry Potter and the Deathly Hallows     Rowling, J.K.   \n",
       "2     3           Harry Potter and the Philosopher's Stone     Rowling, J.K.   \n",
       "3     4          Harry Potter and the Order of the Phoenix     Rowling, J.K.   \n",
       "4     5                               Fifty Shades of Grey      James, E. L.   \n",
       "..  ...                                                ...               ...   \n",
       "95   96                                          Ghost,The    Harris, Robert   \n",
       "96   97                     Happy Days with the Naked Chef     Oliver, Jamie   \n",
       "97   98              Hunger Games,The:Hunger Games Trilogy  Collins, Suzanne   \n",
       "98   99  Lost Boy,The:A Foster Child's Search for the L...      Pelzer, Dave   \n",
       "99  100  Jamie's Ministry of Food:Anyone Can Learn to C...     Oliver, Jamie   \n",
       "\n",
       "   Volumes_Sold        Publisher                        Genre  \n",
       "0     5,094,805       Transworld  Crime, Thriller & Adventure  \n",
       "1     4,475,152       Bloomsbury           Children's Fiction  \n",
       "2     4,200,654       Bloomsbury           Children's Fiction  \n",
       "3     4,179,479       Bloomsbury           Children's Fiction  \n",
       "4     3,758,936     Random House              Romance & Sagas  \n",
       "..          ...              ...                          ...  \n",
       "95      807,311     Random House   General & Literary Fiction  \n",
       "96      794,201          Penguin        Food & Drink: General  \n",
       "97      792,187  Scholastic Ltd.          Young Adult Fiction  \n",
       "98      791,507            Orion           Biography: General  \n",
       "99      791,095          Penguin        Food & Drink: General  \n",
       "\n",
       "[100 rows x 6 columns]"
      ]
     },
     "execution_count": 27,
     "metadata": {},
     "output_type": "execute_result"
    }
   ],
   "source": [
    "Books=pd.DataFrame({'Rank':Rank,'Book_Name':Book_Name,'Author_Name':Author_Name,'Volumes_Sold':Volumes_Sold,'Publisher':Publisher,'Genre':Genre})\n",
    "Books"
   ]
  },
  {
   "cell_type": "markdown",
   "id": "3942700e",
   "metadata": {},
   "source": [
    "# 7. Scrape the details most watched tv series of all time from imdb.com. Url = https://www.imdb.com/search/title/?title_type=tv_series&sort=num_votes,desc You have to find the following details: A) Name B) Year span C) Genre D) Run time E) Ratings F) Votes"
   ]
  },
  {
   "cell_type": "code",
   "execution_count": 2,
   "id": "40da0e12",
   "metadata": {},
   "outputs": [],
   "source": [
    "driver=webdriver.Chrome()\n",
    "driver.get('https://www.imdb.com/search/title/?title_type=tv_series&sort=num_votes,desc')"
   ]
  },
  {
   "cell_type": "code",
   "execution_count": 3,
   "id": "1aa9c16b",
   "metadata": {},
   "outputs": [],
   "source": [
    "Name=[]\n",
    "Year_Span=[]\n",
    "Ratings=[]\n",
    "Votes=[]"
   ]
  },
  {
   "cell_type": "code",
   "execution_count": 4,
   "id": "359b9a16",
   "metadata": {},
   "outputs": [
    {
     "name": "stdout",
     "output_type": "stream",
     "text": [
      "['1. Game of Thrones', '2. Breaking Bad', '3. Stranger Things', '4. Friends', '5. The Walking Dead', '6. Sherlock', '7. The Big Bang Theory', '8. Dexter', '9. How I Met Your Mother', '10. The Office', '11. True Detective', '12. Peaky Blinders', '13. Better Call Saul', '14. The Boys', '15. Black Mirror', '16. Rick and Morty', '17. Lost', '18. The Mandalorian', '19. Vikings', '20. Prison Break', '21. The Witcher', '22. Squid Game', '23. Westworld', '24. House of Cards', '25. Money Heist', '26. House', '27. The Last of Us', '28. Attack on Titan', '29. Supernatural', '30. Modern Family', '31. Suits', '32. Daredevil', '33. Narcos', '34. The Sopranos', '35. Arrow', '36. Dark', '37. The Simpsons', '38. Fargo', '39. Mr. Robot', '40. Loki', '41. South Park', '42. The Wire', '43. Death Note', '44. The Flash', '45. House of the Dragon', '46. Family Guy', '47. Homeland', '48. Avatar: The Last Airbender', '49. Brooklyn Nine-Nine', '50. Wednesday', '51. Lucifer', '52. The Lord of the Rings: The Rings of Power', '53. Seinfeld', '54. The Vampire Diaries', '55. Sex Education', '56. Ozark', '57. American Horror Story', '58. Ted Lasso', \"59. Grey's Anatomy\", '60. Mindhunter', '61. Arrested Development', '62. Sons of Anarchy', '63. Orange Is the New Black', '64. 13 Reasons Why', '65. Aspirants', '66. You', '67. Community', '68. Parks and Recreation', '69. Firefly', '70. Shameless', '71. Two and a Half Men', '72. The Blacklist', '73. Hannibal', '74. The 100', '75. The Umbrella Academy', '76. Scrubs', '77. Succession', '78. Arcane', '79. The Punisher', '80. Futurama', '81. True Blood', '82. Mad Men', '83. Fringe', \"84. The Handmaid's Tale\", '85. Spartacus', '86. The Crown', '87. Heroes', \"88. It's Always Sunny in Philadelphia\", '89. The X-Files', '90. Doctor Who', '91. New Girl', '92. Gotham', '93. Once Upon a Time', '94. Euphoria', '95. Jessica Jones', '96. Agents of S.H.I.E.L.D.', '97. One Piece', '98. Downton Abbey', '99. Big Little Lies', '100. The End of the F***ing World']\n"
     ]
    },
    {
     "data": {
      "text/plain": [
       "(100, None)"
      ]
     },
     "execution_count": 4,
     "metadata": {},
     "output_type": "execute_result"
    }
   ],
   "source": [
    "n=driver.find_elements(By.XPATH,'//div[@class=\"ipc-title ipc-title--base ipc-title--title ipc-title-link-no-icon ipc-title--on-textPrimary sc-be6f1408-9 srahg dli-title\"]//h3')\n",
    "for i in n:\n",
    "    if i.text is None:\n",
    "        Name.append('-')\n",
    "    else:\n",
    "        Name.append(i.text)\n",
    "        \n",
    "len(Name),print(Name)"
   ]
  },
  {
   "cell_type": "code",
   "execution_count": 5,
   "id": "13f0ff6f",
   "metadata": {},
   "outputs": [
    {
     "name": "stdout",
     "output_type": "stream",
     "text": [
      "['2011–2019', '2008–2013', '2016–2025', '1994–2004', '2010–2022', '2010–2017', '2007–2019', '2006–2013', '2005–2014', '2005–2013', '2014–', '2013–2022', '2015–2022', '2019–', '2011–', '2013–', '2004–2010', '2019–', '2013–2020', '2005–2017', '2019–', '2021–', '2016–2022', '2013–2018', '2017–2021', '2004–2012', '2023–', '2013–2023', '2005–2020', '2009–2020', '2011–2019', '2015–2018', '2015–2017', '1999–2007', '2012–2020', '2017–2020', '1989–', '2014–2024', '2015–2019', '2021–2023', '1997–', '2002–2008', '2006–2007', '2014–2023', '2022–', '1999–2025', '2011–2020', '2005–2008', '2013–2021', '2022–', '2016–2021', '2022–', '1989–1998', '2009–2017', '2019–2023', '2017–2022', '2011–', '2020–2023', '2005–', '2017–2019', '2003–2019', '2008–2014', '2013–2019', '2017–2020', '2021–', '2018–2024', '2009–2015', '2009–2015', '2002–2003', '2011–2021', '2003–2015', '2013–2023', '2013–2015', '2014–2020', '2019–2024', '2001–2010', '2018–2023', '2021–', '2017–2019', '1999–', '2008–2014', '2007–2015', '2008–2013', '2017–', '2010–2013', '2016–2023', '2006–2010', '2005–', '1993–2018', '2005–2023', '2011–2018', '2014–2019', '2011–2018', '2019–', '2015–2019', '2013–2020', '1999–', '2010–2015', '2017–', '2017–2019']\n"
     ]
    },
    {
     "data": {
      "text/plain": [
       "(100, None)"
      ]
     },
     "execution_count": 5,
     "metadata": {},
     "output_type": "execute_result"
    }
   ],
   "source": [
    "y=driver.find_elements(By.XPATH,'//div[@class=\"sc-be6f1408-7 iUtHEN dli-title-metadata\"]//span[1]')\n",
    "for i in y:\n",
    "    if i.text is None:\n",
    "        Year_Span.append('-')\n",
    "    else:\n",
    "        Year_Span.append(i.text)\n",
    "        \n",
    "len(Year_Span),print(Year_Span)"
   ]
  },
  {
   "cell_type": "code",
   "execution_count": 6,
   "id": "0df31b17",
   "metadata": {},
   "outputs": [
    {
     "name": "stdout",
     "output_type": "stream",
     "text": [
      "['9.2\\n (2.3M)', '9.5\\n (2.1M)', '8.7\\n (1.3M)', '8.9\\n (1.1M)', '8.1\\n (1.1M)', '9.1\\n (988K)', '8.1\\n (860K)', '8.7\\n (759K)', '8.3\\n (723K)', '9.0\\n (699K)', '8.9\\n (642K)', '8.8\\n (636K)', '9.0\\n (636K)', '8.7\\n (634K)', '8.7\\n (632K)', '9.1\\n (594K)', '8.3\\n (590K)', '8.7\\n (580K)', '8.5\\n (575K)', '8.3\\n (574K)', '8.0\\n (565K)', '8.0\\n (531K)', '8.5\\n (529K)', '8.6\\n (528K)', '8.2\\n (526K)', '8.7\\n (504K)', '8.8\\n (501K)', '9.1\\n (498K)', '8.4\\n (479K)', '8.5\\n (477K)', '8.4\\n (471K)', '8.6\\n (471K)', '8.8\\n (465K)', '9.2\\n (462K)', '7.5\\n (445K)', '8.7\\n (437K)', '8.7\\n (433K)', '8.9\\n (416K)', '8.5\\n (415K)', '8.2\\n (406K)', '8.7\\n (403K)', '9.3\\n (373K)', '8.9\\n (372K)', '7.5\\n (367K)', '8.4\\n (363K)', '8.2\\n (362K)', '8.3\\n (359K)', '9.3\\n (358K)', '8.4\\n (356K)', '8.1\\n (353K)', '8.1\\n (352K)', '7.0\\n (348K)', '8.9\\n (348K)', '7.7\\n (347K)', '8.3\\n (346K)', '8.5\\n (342K)', '8.0\\n (341K)', '8.8\\n (338K)', '7.6\\n (338K)', '8.6\\n (331K)', '8.7\\n (322K)', '8.6\\n (320K)', '8.0\\n (318K)', '7.5\\n (313K)', '9.2\\n (310K)', '7.7\\n (295K)', '8.5\\n (290K)', '8.6\\n (285K)', '9.0\\n (280K)', '8.5\\n (279K)', '7.1\\n (279K)', '7.9\\n (277K)', '8.5\\n (274K)', '7.6\\n (273K)', '7.9\\n (272K)', '8.4\\n (269K)', '8.8\\n (264K)', '9.0\\n (262K)', '8.4\\n (262K)', '8.5\\n (259K)', '7.9\\n (259K)', '8.7\\n (258K)', '8.4\\n (256K)', '8.4\\n (256K)', '8.5\\n (255K)', '8.6\\n (254K)', '7.5\\n (251K)', '8.8\\n (249K)', '8.6\\n (247K)', '8.6\\n (245K)', '7.8\\n (244K)', '7.8\\n (240K)', '7.7\\n (236K)', '8.3\\n (234K)', '7.9\\n (226K)', '7.5\\n (225K)', '9.0\\n (225K)', '8.7\\n (223K)', '8.4\\n (222K)', '8.0\\n (217K)']\n"
     ]
    },
    {
     "data": {
      "text/plain": [
       "(100, None)"
      ]
     },
     "execution_count": 6,
     "metadata": {},
     "output_type": "execute_result"
    }
   ],
   "source": [
    "r=driver.find_elements(By.XPATH,'//span[@class=\"ipc-rating-star ipc-rating-star--base ipc-rating-star--imdb ratingGroup--imdb-rating\"]')\n",
    "for i in r:\n",
    "    if i.text is None:\n",
    "        Ratings.append('-')\n",
    "    else:\n",
    "        Ratings.append(i.text)\n",
    "        \n",
    "len(Ratings),print(Ratings)"
   ]
  },
  {
   "cell_type": "code",
   "execution_count": 7,
   "id": "ecac5c9f",
   "metadata": {},
   "outputs": [
    {
     "name": "stdout",
     "output_type": "stream",
     "text": [
      "['Votes2,259,539', 'Votes2,107,041', 'Votes1,318,334', 'Votes1,077,547', 'Votes1,070,548', 'Votes988,439', 'Votes860,236', 'Votes758,938', 'Votes723,465', 'Votes698,723', 'Votes641,948', 'Votes636,457', 'Votes635,606', 'Votes633,764', 'Votes632,409', 'Votes593,827', 'Votes589,769', 'Votes579,752', 'Votes575,357', 'Votes574,397', 'Votes564,634', 'Votes530,516', 'Votes529,312', 'Votes527,965', 'Votes526,019', 'Votes504,315', 'Votes501,090', 'Votes497,789', 'Votes478,595', 'Votes476,532', 'Votes471,405', 'Votes470,913', 'Votes465,199', 'Votes461,996', 'Votes444,596', 'Votes437,129', 'Votes432,700', 'Votes415,700', 'Votes414,825', 'Votes406,125', 'Votes403,075', 'Votes372,654', 'Votes372,084', 'Votes366,765', 'Votes363,168', 'Votes361,696', 'Votes359,062', 'Votes357,529', 'Votes355,704', 'Votes352,742', 'Votes352,346', 'Votes348,254', 'Votes347,739', 'Votes346,757', 'Votes346,353', 'Votes342,466', 'Votes341,030', 'Votes338,258', 'Votes337,889', 'Votes330,505', 'Votes322,277', 'Votes320,305', 'Votes318,496', 'Votes313,179', 'Votes310,019', 'Votes295,272', 'Votes290,282', 'Votes285,067', 'Votes279,855', 'Votes279,165', 'Votes278,626', 'Votes276,936', 'Votes273,932', 'Votes273,038', 'Votes272,037', 'Votes269,212', 'Votes263,713', 'Votes262,292', 'Votes261,985', 'Votes258,978', 'Votes258,835', 'Votes258,426', 'Votes256,100', 'Votes255,665', 'Votes255,174', 'Votes253,540', 'Votes250,517', 'Votes249,203', 'Votes246,951', 'Votes244,759', 'Votes243,503', 'Votes239,711', 'Votes235,798', 'Votes233,793', 'Votes225,544', 'Votes225,045', 'Votes224,631', 'Votes222,722', 'Votes222,087', 'Votes216,985']\n"
     ]
    },
    {
     "data": {
      "text/plain": [
       "(100, None)"
      ]
     },
     "execution_count": 7,
     "metadata": {},
     "output_type": "execute_result"
    }
   ],
   "source": [
    "v=driver.find_elements(By.XPATH,'//div[@class=\"sc-f24f1c5c-0 cPpOqU\"]')\n",
    "for i in v:\n",
    "    if i.text is None:\n",
    "        Votes.append('-')\n",
    "    else:\n",
    "        Votes.append(i.text)\n",
    "        \n",
    "len(Votes),print(Votes)"
   ]
  },
  {
   "cell_type": "code",
   "execution_count": 10,
   "id": "6c363a51",
   "metadata": {},
   "outputs": [
    {
     "data": {
      "text/html": [
       "<div>\n",
       "<style scoped>\n",
       "    .dataframe tbody tr th:only-of-type {\n",
       "        vertical-align: middle;\n",
       "    }\n",
       "\n",
       "    .dataframe tbody tr th {\n",
       "        vertical-align: top;\n",
       "    }\n",
       "\n",
       "    .dataframe thead th {\n",
       "        text-align: right;\n",
       "    }\n",
       "</style>\n",
       "<table border=\"1\" class=\"dataframe\">\n",
       "  <thead>\n",
       "    <tr style=\"text-align: right;\">\n",
       "      <th></th>\n",
       "      <th>Name</th>\n",
       "      <th>Year_Span</th>\n",
       "      <th>Ratings</th>\n",
       "      <th>Votes</th>\n",
       "    </tr>\n",
       "  </thead>\n",
       "  <tbody>\n",
       "    <tr>\n",
       "      <th>0</th>\n",
       "      <td>1. Game of Thrones</td>\n",
       "      <td>2011–2019</td>\n",
       "      <td>9.2\\n (2.3M)</td>\n",
       "      <td>Votes2,259,539</td>\n",
       "    </tr>\n",
       "    <tr>\n",
       "      <th>1</th>\n",
       "      <td>2. Breaking Bad</td>\n",
       "      <td>2008–2013</td>\n",
       "      <td>9.5\\n (2.1M)</td>\n",
       "      <td>Votes2,107,041</td>\n",
       "    </tr>\n",
       "    <tr>\n",
       "      <th>2</th>\n",
       "      <td>3. Stranger Things</td>\n",
       "      <td>2016–2025</td>\n",
       "      <td>8.7\\n (1.3M)</td>\n",
       "      <td>Votes1,318,334</td>\n",
       "    </tr>\n",
       "    <tr>\n",
       "      <th>3</th>\n",
       "      <td>4. Friends</td>\n",
       "      <td>1994–2004</td>\n",
       "      <td>8.9\\n (1.1M)</td>\n",
       "      <td>Votes1,077,547</td>\n",
       "    </tr>\n",
       "    <tr>\n",
       "      <th>4</th>\n",
       "      <td>5. The Walking Dead</td>\n",
       "      <td>2010–2022</td>\n",
       "      <td>8.1\\n (1.1M)</td>\n",
       "      <td>Votes1,070,548</td>\n",
       "    </tr>\n",
       "    <tr>\n",
       "      <th>...</th>\n",
       "      <td>...</td>\n",
       "      <td>...</td>\n",
       "      <td>...</td>\n",
       "      <td>...</td>\n",
       "    </tr>\n",
       "    <tr>\n",
       "      <th>95</th>\n",
       "      <td>96. Agents of S.H.I.E.L.D.</td>\n",
       "      <td>2013–2020</td>\n",
       "      <td>7.5\\n (225K)</td>\n",
       "      <td>Votes225,045</td>\n",
       "    </tr>\n",
       "    <tr>\n",
       "      <th>96</th>\n",
       "      <td>97. One Piece</td>\n",
       "      <td>1999–</td>\n",
       "      <td>9.0\\n (225K)</td>\n",
       "      <td>Votes224,631</td>\n",
       "    </tr>\n",
       "    <tr>\n",
       "      <th>97</th>\n",
       "      <td>98. Downton Abbey</td>\n",
       "      <td>2010–2015</td>\n",
       "      <td>8.7\\n (223K)</td>\n",
       "      <td>Votes222,722</td>\n",
       "    </tr>\n",
       "    <tr>\n",
       "      <th>98</th>\n",
       "      <td>99. Big Little Lies</td>\n",
       "      <td>2017–</td>\n",
       "      <td>8.4\\n (222K)</td>\n",
       "      <td>Votes222,087</td>\n",
       "    </tr>\n",
       "    <tr>\n",
       "      <th>99</th>\n",
       "      <td>100. The End of the F***ing World</td>\n",
       "      <td>2017–2019</td>\n",
       "      <td>8.0\\n (217K)</td>\n",
       "      <td>Votes216,985</td>\n",
       "    </tr>\n",
       "  </tbody>\n",
       "</table>\n",
       "<p>100 rows × 4 columns</p>\n",
       "</div>"
      ],
      "text/plain": [
       "                                 Name  Year_Span       Ratings           Votes\n",
       "0                  1. Game of Thrones  2011–2019  9.2\\n (2.3M)  Votes2,259,539\n",
       "1                     2. Breaking Bad  2008–2013  9.5\\n (2.1M)  Votes2,107,041\n",
       "2                  3. Stranger Things  2016–2025  8.7\\n (1.3M)  Votes1,318,334\n",
       "3                          4. Friends  1994–2004  8.9\\n (1.1M)  Votes1,077,547\n",
       "4                 5. The Walking Dead  2010–2022  8.1\\n (1.1M)  Votes1,070,548\n",
       "..                                ...        ...           ...             ...\n",
       "95         96. Agents of S.H.I.E.L.D.  2013–2020  7.5\\n (225K)    Votes225,045\n",
       "96                      97. One Piece      1999–  9.0\\n (225K)    Votes224,631\n",
       "97                  98. Downton Abbey  2010–2015  8.7\\n (223K)    Votes222,722\n",
       "98                99. Big Little Lies      2017–  8.4\\n (222K)    Votes222,087\n",
       "99  100. The End of the F***ing World  2017–2019  8.0\\n (217K)    Votes216,985\n",
       "\n",
       "[100 rows x 4 columns]"
      ]
     },
     "execution_count": 10,
     "metadata": {},
     "output_type": "execute_result"
    }
   ],
   "source": [
    "Movies=pd.DataFrame({'Name':Name,'Year_Span':Year_Span,'Ratings':Ratings,'Votes':Votes})\n",
    "Movies"
   ]
  },
  {
   "cell_type": "markdown",
   "id": "b51451b3",
   "metadata": {},
   "source": [
    "# 8. Details of Datasets from UCI machine learning repositories. Url = https://archive.ics.uci.edu/ You have to find the following details: A) Dataset name B) Data type C) Task D) Attribute type E) No of instances F) No of attribute G) Year Note: - from the home page you have to go to the Show All Dataset page through code."
   ]
  },
  {
   "cell_type": "code",
   "execution_count": 3,
   "id": "e2bb723d",
   "metadata": {},
   "outputs": [],
   "source": [
    "driver=webdriver.Chrome()\n",
    "driver.get('https://archive.ics.uci.edu/')"
   ]
  },
  {
   "cell_type": "code",
   "execution_count": 4,
   "id": "200cd371",
   "metadata": {},
   "outputs": [],
   "source": [
    "view=driver.find_element(By.XPATH,'/html/body/div/div[1]/div[1]/main/div/div[2]/section[1]/div[2]/a')\n",
    "view.click()"
   ]
  },
  {
   "cell_type": "code",
   "execution_count": 5,
   "id": "2ed564ca",
   "metadata": {},
   "outputs": [],
   "source": [
    "Name=[]\n",
    "Data_Type=[]\n",
    "Task=[]\n",
    "Attribute_Type=[]\n",
    "No_Of_Instances=[]\n",
    "No_Of_Attribute=[]"
   ]
  },
  {
   "cell_type": "code",
   "execution_count": 6,
   "id": "89273c8c",
   "metadata": {},
   "outputs": [
    {
     "name": "stdout",
     "output_type": "stream",
     "text": [
      "['Iris', 'Dry Bean Dataset', 'Heart Disease', 'Rice (Cammeo and Osmancik)', 'Adult', 'Raisin', 'Wine', 'Breast Cancer Wisconsin (Diagnostic)', 'Wine Quality', 'Diabetes']\n"
     ]
    },
    {
     "data": {
      "text/plain": [
       "(10, None)"
      ]
     },
     "execution_count": 6,
     "metadata": {},
     "output_type": "execute_result"
    }
   ],
   "source": [
    "n=driver.find_elements(By.XPATH,'//a[@class=\"link-hover link text-xl font-semibold\"]')\n",
    "for i in n:\n",
    "    Name.append(i.text)\n",
    "    \n",
    "len(Name),print(Name)"
   ]
  },
  {
   "cell_type": "code",
   "execution_count": 7,
   "id": "723ea597",
   "metadata": {},
   "outputs": [
    {
     "name": "stdout",
     "output_type": "stream",
     "text": [
      "['Tabular', 'Multivariate', 'Multivariate', 'Multivariate', 'Multivariate', 'Multivariate', 'Tabular', 'Multivariate', 'Multivariate', 'Multivariate, Time-Series']\n"
     ]
    },
    {
     "data": {
      "text/plain": [
       "(10, None)"
      ]
     },
     "execution_count": 7,
     "metadata": {},
     "output_type": "execute_result"
    }
   ],
   "source": [
    "dt=driver.find_elements(By.XPATH,'//div[@class=\"relative col-span-8 sm:col-span-7\"]//div[1]/div[2]/span')\n",
    "for i in dt:\n",
    "    Data_Type.append(i.text)\n",
    "    \n",
    "len(Data_Type),print(Data_Type)"
   ]
  },
  {
   "cell_type": "code",
   "execution_count": 8,
   "id": "e303d7f1",
   "metadata": {},
   "outputs": [
    {
     "name": "stdout",
     "output_type": "stream",
     "text": [
      "['Classification', 'Classification', 'Classification', 'Classification', 'Classification', 'Classification', 'Classification', 'Classification', 'Classification, Regression', 'Classification']\n"
     ]
    },
    {
     "data": {
      "text/plain": [
       "(10, None)"
      ]
     },
     "execution_count": 8,
     "metadata": {},
     "output_type": "execute_result"
    }
   ],
   "source": [
    "t=driver.find_elements(By.XPATH,'//div[@class=\"relative col-span-8 sm:col-span-7\"]//div[1]/div[1]/span')\n",
    "for i in t:\n",
    "    Task.append(i.text)\n",
    "    \n",
    "len(Task),print(Task)"
   ]
  },
  {
   "cell_type": "code",
   "execution_count": 9,
   "id": "86ed46a6",
   "metadata": {},
   "outputs": [
    {
     "name": "stdout",
     "output_type": "stream",
     "text": [
      "['Real', 'Integer, Real', 'Categorical, Integer, Real', 'Real', 'Categorical, Integer', 'Real, Integer', 'Integer, Real', 'Real', 'Real', 'Categorical, Integer']\n"
     ]
    },
    {
     "data": {
      "text/plain": [
       "(10, None)"
      ]
     },
     "execution_count": 9,
     "metadata": {},
     "output_type": "execute_result"
    }
   ],
   "source": [
    "at=driver.find_elements(By.XPATH,'//div[@class=\"grid grid-cols-8 overflow-x-auto\"]//table/tbody/tr/td[2]')\n",
    "for i in at:\n",
    "    Attribute_Type.append(i.text)\n",
    "    \n",
    "len(Attribute_Type),print(Attribute_Type)"
   ]
  },
  {
   "cell_type": "code",
   "execution_count": 10,
   "id": "4c03cc08",
   "metadata": {},
   "outputs": [
    {
     "name": "stdout",
     "output_type": "stream",
     "text": [
      "['150 Instances', '13.61K Instances', '303 Instances', '3.81K Instances', '48.84K Instances', '900 Instances', '178 Instances', '569 Instances', '4.9K Instances', '1 Instances']\n"
     ]
    },
    {
     "data": {
      "text/plain": [
       "(10, None)"
      ]
     },
     "execution_count": 10,
     "metadata": {},
     "output_type": "execute_result"
    }
   ],
   "source": [
    "it=driver.find_elements(By.XPATH,'//div[@class=\"relative col-span-8 sm:col-span-7\"]//div[1]/div[3]/span')\n",
    "for i in it:\n",
    "    No_Of_Instances.append(i.text)\n",
    "    \n",
    "len(No_Of_Instances),print(No_Of_Instances)"
   ]
  },
  {
   "cell_type": "code",
   "execution_count": 11,
   "id": "9b915cc2",
   "metadata": {},
   "outputs": [
    {
     "name": "stdout",
     "output_type": "stream",
     "text": [
      "['4 Features', '16 Features', '13 Features', '7 Features', '14 Features', '8 Features', '13 Features', '30 Features', '12 Features', '20 Features']\n"
     ]
    },
    {
     "data": {
      "text/plain": [
       "(10, None)"
      ]
     },
     "execution_count": 11,
     "metadata": {},
     "output_type": "execute_result"
    }
   ],
   "source": [
    "na=driver.find_elements(By.XPATH,'//div[@class=\"relative col-span-8 sm:col-span-7\"]//div[1]/div[4]/span')\n",
    "for i in na:\n",
    "    No_Of_Attribute.append(i.text)\n",
    "    \n",
    "len(No_Of_Attribute),print(No_Of_Attribute)"
   ]
  },
  {
   "cell_type": "code",
   "execution_count": 12,
   "id": "3180e04e",
   "metadata": {},
   "outputs": [
    {
     "data": {
      "text/html": [
       "<div>\n",
       "<style scoped>\n",
       "    .dataframe tbody tr th:only-of-type {\n",
       "        vertical-align: middle;\n",
       "    }\n",
       "\n",
       "    .dataframe tbody tr th {\n",
       "        vertical-align: top;\n",
       "    }\n",
       "\n",
       "    .dataframe thead th {\n",
       "        text-align: right;\n",
       "    }\n",
       "</style>\n",
       "<table border=\"1\" class=\"dataframe\">\n",
       "  <thead>\n",
       "    <tr style=\"text-align: right;\">\n",
       "      <th></th>\n",
       "      <th>Name</th>\n",
       "      <th>Data_Type</th>\n",
       "      <th>Task</th>\n",
       "      <th>Attribute_Type</th>\n",
       "      <th>No_Of_Instances</th>\n",
       "      <th>No_Of_Attribute</th>\n",
       "    </tr>\n",
       "  </thead>\n",
       "  <tbody>\n",
       "    <tr>\n",
       "      <th>0</th>\n",
       "      <td>Iris</td>\n",
       "      <td>Tabular</td>\n",
       "      <td>Classification</td>\n",
       "      <td>Real</td>\n",
       "      <td>150 Instances</td>\n",
       "      <td>4 Features</td>\n",
       "    </tr>\n",
       "    <tr>\n",
       "      <th>1</th>\n",
       "      <td>Dry Bean Dataset</td>\n",
       "      <td>Multivariate</td>\n",
       "      <td>Classification</td>\n",
       "      <td>Integer, Real</td>\n",
       "      <td>13.61K Instances</td>\n",
       "      <td>16 Features</td>\n",
       "    </tr>\n",
       "    <tr>\n",
       "      <th>2</th>\n",
       "      <td>Heart Disease</td>\n",
       "      <td>Multivariate</td>\n",
       "      <td>Classification</td>\n",
       "      <td>Categorical, Integer, Real</td>\n",
       "      <td>303 Instances</td>\n",
       "      <td>13 Features</td>\n",
       "    </tr>\n",
       "    <tr>\n",
       "      <th>3</th>\n",
       "      <td>Rice (Cammeo and Osmancik)</td>\n",
       "      <td>Multivariate</td>\n",
       "      <td>Classification</td>\n",
       "      <td>Real</td>\n",
       "      <td>3.81K Instances</td>\n",
       "      <td>7 Features</td>\n",
       "    </tr>\n",
       "    <tr>\n",
       "      <th>4</th>\n",
       "      <td>Adult</td>\n",
       "      <td>Multivariate</td>\n",
       "      <td>Classification</td>\n",
       "      <td>Categorical, Integer</td>\n",
       "      <td>48.84K Instances</td>\n",
       "      <td>14 Features</td>\n",
       "    </tr>\n",
       "    <tr>\n",
       "      <th>5</th>\n",
       "      <td>Raisin</td>\n",
       "      <td>Multivariate</td>\n",
       "      <td>Classification</td>\n",
       "      <td>Real, Integer</td>\n",
       "      <td>900 Instances</td>\n",
       "      <td>8 Features</td>\n",
       "    </tr>\n",
       "    <tr>\n",
       "      <th>6</th>\n",
       "      <td>Wine</td>\n",
       "      <td>Tabular</td>\n",
       "      <td>Classification</td>\n",
       "      <td>Integer, Real</td>\n",
       "      <td>178 Instances</td>\n",
       "      <td>13 Features</td>\n",
       "    </tr>\n",
       "    <tr>\n",
       "      <th>7</th>\n",
       "      <td>Breast Cancer Wisconsin (Diagnostic)</td>\n",
       "      <td>Multivariate</td>\n",
       "      <td>Classification</td>\n",
       "      <td>Real</td>\n",
       "      <td>569 Instances</td>\n",
       "      <td>30 Features</td>\n",
       "    </tr>\n",
       "    <tr>\n",
       "      <th>8</th>\n",
       "      <td>Wine Quality</td>\n",
       "      <td>Multivariate</td>\n",
       "      <td>Classification, Regression</td>\n",
       "      <td>Real</td>\n",
       "      <td>4.9K Instances</td>\n",
       "      <td>12 Features</td>\n",
       "    </tr>\n",
       "    <tr>\n",
       "      <th>9</th>\n",
       "      <td>Diabetes</td>\n",
       "      <td>Multivariate, Time-Series</td>\n",
       "      <td>Classification</td>\n",
       "      <td>Categorical, Integer</td>\n",
       "      <td>1 Instances</td>\n",
       "      <td>20 Features</td>\n",
       "    </tr>\n",
       "  </tbody>\n",
       "</table>\n",
       "</div>"
      ],
      "text/plain": [
       "                                   Name                  Data_Type  \\\n",
       "0                                  Iris                    Tabular   \n",
       "1                      Dry Bean Dataset               Multivariate   \n",
       "2                         Heart Disease               Multivariate   \n",
       "3            Rice (Cammeo and Osmancik)               Multivariate   \n",
       "4                                 Adult               Multivariate   \n",
       "5                                Raisin               Multivariate   \n",
       "6                                  Wine                    Tabular   \n",
       "7  Breast Cancer Wisconsin (Diagnostic)               Multivariate   \n",
       "8                          Wine Quality               Multivariate   \n",
       "9                              Diabetes  Multivariate, Time-Series   \n",
       "\n",
       "                         Task              Attribute_Type   No_Of_Instances  \\\n",
       "0              Classification                        Real     150 Instances   \n",
       "1              Classification               Integer, Real  13.61K Instances   \n",
       "2              Classification  Categorical, Integer, Real     303 Instances   \n",
       "3              Classification                        Real   3.81K Instances   \n",
       "4              Classification        Categorical, Integer  48.84K Instances   \n",
       "5              Classification               Real, Integer     900 Instances   \n",
       "6              Classification               Integer, Real     178 Instances   \n",
       "7              Classification                        Real     569 Instances   \n",
       "8  Classification, Regression                        Real    4.9K Instances   \n",
       "9              Classification        Categorical, Integer       1 Instances   \n",
       "\n",
       "  No_Of_Attribute  \n",
       "0      4 Features  \n",
       "1     16 Features  \n",
       "2     13 Features  \n",
       "3      7 Features  \n",
       "4     14 Features  \n",
       "5      8 Features  \n",
       "6     13 Features  \n",
       "7     30 Features  \n",
       "8     12 Features  \n",
       "9     20 Features  "
      ]
     },
     "execution_count": 12,
     "metadata": {},
     "output_type": "execute_result"
    }
   ],
   "source": [
    "Datasets=pd.DataFrame({'Name':Name,'Data_Type':Data_Type,'Task':Task,'Attribute_Type':Attribute_Type,'No_Of_Instances':No_Of_Instances,'No_Of_Attribute':No_Of_Attribute})\n",
    "Datasets"
   ]
  }
 ],
 "metadata": {
  "kernelspec": {
   "display_name": "Python 3 (ipykernel)",
   "language": "python",
   "name": "python3"
  },
  "language_info": {
   "codemirror_mode": {
    "name": "ipython",
    "version": 3
   },
   "file_extension": ".py",
   "mimetype": "text/x-python",
   "name": "python",
   "nbconvert_exporter": "python",
   "pygments_lexer": "ipython3",
   "version": "3.9.13"
  }
 },
 "nbformat": 4,
 "nbformat_minor": 5
}
