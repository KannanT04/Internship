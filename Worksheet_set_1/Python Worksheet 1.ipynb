{
 "cells": [
  {
   "cell_type": "code",
   "execution_count": 7,
   "id": "4102f653",
   "metadata": {},
   "outputs": [
    {
     "name": "stdout",
     "output_type": "stream",
     "text": [
      "Factorial is 120\n"
     ]
    }
   ],
   "source": [
    "#11.Write a python program to find a factorial of a number.\n",
    "\n",
    "num = 5\n",
    "\n",
    "factorial = 1\n",
    "\n",
    "if num<0:\n",
    "    print('Factorial is 0')\n",
    "elif num==0:\n",
    "    print('Factorial is 1')\n",
    "else:\n",
    "    for i in range(1,num+1):\n",
    "        factorial = factorial * i\n",
    "print('Factorial is',factorial)"
   ]
  },
  {
   "cell_type": "code",
   "execution_count": 11,
   "id": "6a9cf8fa",
   "metadata": {},
   "outputs": [
    {
     "name": "stdout",
     "output_type": "stream",
     "text": [
      "It is a prime number\n"
     ]
    }
   ],
   "source": [
    "#12.Write a python program to find whether a number is prime or composite.\n",
    "\n",
    "num = 11\n",
    "\n",
    "if num==1:\n",
    "    print('It is not a prime number')\n",
    "if num>1:\n",
    "    for i in range(2,num):\n",
    "        if num%i ==0:\n",
    "            print('It is not a prime number')\n",
    "    else:\n",
    "        print('It is a prime number')"
   ]
  },
  {
   "cell_type": "code",
   "execution_count": 12,
   "id": "55e7ddd1",
   "metadata": {},
   "outputs": [
    {
     "name": "stdout",
     "output_type": "stream",
     "text": [
      "Malayalam is a palindrome.\n"
     ]
    }
   ],
   "source": [
    "#13.Write a python program to check whether a given string is palindrome or not.\n",
    "\n",
    "string = 'Malayalam'\n",
    "\n",
    "mystr=string.casefold()\n",
    "rev_str=mystr[::-1]\n",
    "\n",
    "if mystr==rev_str:\n",
    "    print(string,'is a palindrome.')\n",
    "else:\n",
    "    print(string,'is not a palindrome.')"
   ]
  },
  {
   "cell_type": "code",
   "execution_count": 14,
   "id": "0855f349",
   "metadata": {},
   "outputs": [
    {
     "name": "stdout",
     "output_type": "stream",
     "text": [
      "The third side of right-angled triangle is 13\n"
     ]
    }
   ],
   "source": [
    "#14.Write a python program to get the third side of right-angled triangle from two given sides.\n",
    "import math\n",
    "AB = 10\n",
    "BC = 8\n",
    "\n",
    "AC = round(math.sqrt(AB**2+BC**2))\n",
    "print('The third side of right-angled triangle is',AC)"
   ]
  },
  {
   "cell_type": "code",
   "execution_count": 18,
   "id": "a23206e9",
   "metadata": {},
   "outputs": [
    {
     "name": "stdout",
     "output_type": "stream",
     "text": [
      "{'F': 1, 'l': 2, 'i': 2, 'p': 1, ' ': 2, 'R': 1, 'o': 4, 'b': 1, 'T': 1, 'e': 2, 'c': 1, 'h': 1, 'n': 1, 'g': 1, 's': 1}\n"
     ]
    }
   ],
   "source": [
    "#15.Write a python program to print the frequency of each characters present in a given string.\n",
    "string = 'Flip Robo Technologies'\n",
    "\n",
    "l = list(string)\n",
    "frequency = [l.count(ele) for ele in l]\n",
    "x=dict(zip(l,frequency))\n",
    "print(x)"
   ]
  }
 ],
 "metadata": {
  "kernelspec": {
   "display_name": "Python 3 (ipykernel)",
   "language": "python",
   "name": "python3"
  },
  "language_info": {
   "codemirror_mode": {
    "name": "ipython",
    "version": 3
   },
   "file_extension": ".py",
   "mimetype": "text/x-python",
   "name": "python",
   "nbconvert_exporter": "python",
   "pygments_lexer": "ipython3",
   "version": "3.9.13"
  }
 },
 "nbformat": 4,
 "nbformat_minor": 5
}
